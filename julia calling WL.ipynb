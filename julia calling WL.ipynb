{
  "cells": [
    {
      "cell_type": "code",
      "source": [
        "2+2\n"
      ],
      "outputs": [
        {
          "output_type": "execute_result",
          "execution_count": 1,
          "data": {
            "text/plain": "4"
          },
          "metadata": {}
        }
      ],
      "execution_count": 1,
      "metadata": {
        "collapsed": true,
        "jupyter": {
          "source_hidden": false,
          "outputs_hidden": false
        },
        "nteract": {
          "transient": {
            "deleting": false
          }
        },
        "execution": {
          "iopub.status.busy": "2021-12-17T07:41:18.406Z",
          "iopub.execute_input": "2021-12-17T07:41:18.903Z",
          "iopub.status.idle": "2021-12-17T07:41:19.551Z"
        }
      }
    },
    {
      "cell_type": "code",
      "source": [
        "iden(x)=x"
      ],
      "outputs": [
        {
          "output_type": "execute_result",
          "execution_count": 2,
          "data": {
            "text/plain": "iden (generic function with 1 method)"
          },
          "metadata": {}
        }
      ],
      "execution_count": 2,
      "metadata": {
        "collapsed": true,
        "jupyter": {
          "source_hidden": false,
          "outputs_hidden": false
        },
        "nteract": {
          "transient": {
            "deleting": false
          }
        },
        "execution": {
          "iopub.status.busy": "2021-12-17T07:41:43.381Z",
          "iopub.execute_input": "2021-12-17T07:41:43.391Z",
          "iopub.status.idle": "2021-12-17T07:41:43.654Z"
        }
      }
    },
    {
      "cell_type": "code",
      "source": [
        "iden(5)"
      ],
      "outputs": [
        {
          "output_type": "execute_result",
          "execution_count": 3,
          "data": {
            "text/plain": "5"
          },
          "metadata": {}
        }
      ],
      "execution_count": 3,
      "metadata": {
        "collapsed": true,
        "jupyter": {
          "source_hidden": false,
          "outputs_hidden": false
        },
        "nteract": {
          "transient": {
            "deleting": false
          }
        },
        "execution": {
          "iopub.status.busy": "2021-12-17T07:41:49.667Z",
          "iopub.execute_input": "2021-12-17T07:41:49.679Z",
          "iopub.status.idle": "2021-12-17T07:41:49.699Z"
        }
      }
    },
    {
      "cell_type": "code",
      "source": [
        "using ZMQ\n",
        "ctx = Context(1)\n",
        "s = Socket(ctx, PAIR)\n",
        "ZMQ.connect(s, \"tcp://127.0.0.1:5556\")"
      ],
      "outputs": [],
      "execution_count": 36,
      "metadata": {
        "collapsed": true,
        "jupyter": {
          "source_hidden": false,
          "outputs_hidden": false
        },
        "nteract": {
          "transient": {
            "deleting": false
          }
        },
        "execution": {
          "iopub.status.busy": "2021-12-17T08:09:06.706Z",
          "iopub.execute_input": "2021-12-17T08:09:06.713Z",
          "iopub.status.idle": "2021-12-17T08:09:06.720Z"
        }
      }
    },
    {
      "cell_type": "code",
      "source": [
        "ZMQ.send(s, \"2+2\")"
      ],
      "outputs": [],
      "execution_count": 40,
      "metadata": {
        "collapsed": true,
        "jupyter": {
          "source_hidden": false,
          "outputs_hidden": false
        },
        "nteract": {
          "transient": {
            "deleting": false
          }
        },
        "execution": {
          "iopub.status.busy": "2021-12-17T08:09:39.829Z",
          "iopub.execute_input": "2021-12-17T08:09:39.834Z",
          "iopub.status.idle": "2021-12-17T08:09:39.842Z"
        }
      }
    },
    {
      "cell_type": "code",
      "source": [
        "msg = ZMQ.recv(s)"
      ],
      "outputs": [
        {
          "output_type": "execute_result",
          "execution_count": 50,
          "data": {
            "text/plain": "12-element Message:\n 0x7b\n 0x22\n 0x4f\n 0x75\n 0x74\n 0x70\n 0x75\n 0x74\n 0x22\n 0x3a\n 0x34\n 0x7d"
          },
          "metadata": {}
        }
      ],
      "execution_count": 50,
      "metadata": {
        "collapsed": true,
        "jupyter": {
          "source_hidden": false,
          "outputs_hidden": false
        },
        "nteract": {
          "transient": {
            "deleting": false
          }
        },
        "execution": {
          "iopub.status.busy": "2021-12-17T08:52:28.640Z",
          "iopub.execute_input": "2021-12-17T08:52:28.646Z",
          "iopub.status.idle": "2021-12-17T08:52:28.659Z"
        }
      }
    },
    {
      "cell_type": "code",
      "source": [
        "res =  String(UInt8.(msg))"
      ],
      "outputs": [
        {
          "output_type": "execute_result",
          "execution_count": 53,
          "data": {
            "text/plain": "\"{\\\"Output\\\":4}\""
          },
          "metadata": {}
        }
      ],
      "execution_count": 53,
      "metadata": {
        "collapsed": true,
        "jupyter": {
          "source_hidden": false,
          "outputs_hidden": false
        },
        "nteract": {
          "transient": {
            "deleting": false
          }
        },
        "execution": {
          "iopub.status.busy": "2021-12-17T08:54:25.263Z",
          "iopub.execute_input": "2021-12-17T08:54:25.269Z",
          "iopub.status.idle": "2021-12-17T08:54:25.282Z"
        }
      }
    },
    {
      "cell_type": "code",
      "source": [
        "using JSON"
      ],
      "outputs": [],
      "execution_count": 52,
      "metadata": {
        "collapsed": true,
        "jupyter": {
          "source_hidden": false,
          "outputs_hidden": false
        },
        "nteract": {
          "transient": {
            "deleting": false
          }
        },
        "execution": {
          "iopub.status.busy": "2021-12-17T08:54:15.923Z",
          "iopub.execute_input": "2021-12-17T08:54:15.929Z",
          "iopub.status.idle": "2021-12-17T08:54:15.939Z"
        }
      }
    },
    {
      "cell_type": "code",
      "source": [
        "JSON.parse(res)[\"Output\"]*2"
      ],
      "outputs": [
        {
          "output_type": "execute_result",
          "execution_count": 57,
          "data": {
            "text/plain": "8"
          },
          "metadata": {}
        }
      ],
      "execution_count": 57,
      "metadata": {
        "collapsed": true,
        "jupyter": {
          "source_hidden": false,
          "outputs_hidden": false
        },
        "nteract": {
          "transient": {
            "deleting": false
          }
        },
        "execution": {
          "iopub.status.busy": "2021-12-17T08:55:45.954Z",
          "iopub.execute_input": "2021-12-17T08:55:45.959Z",
          "iopub.status.idle": "2021-12-17T08:55:45.971Z"
        }
      }
    },
    {
      "cell_type": "code",
      "source": [
        "run(`dir`)"
      ],
      "outputs": [
        {
          "output_type": "error",
          "ename": "LoadError",
          "evalue": "IOError: could not spawn `dir`: no such file or directory (ENOENT)",
          "traceback": [
            "IOError: could not spawn `dir`: no such file or directory (ENOENT)",
            "",
            "Stacktrace:",
            " [1] _spawn_primitive(file::String, cmd::Cmd, stdio::Vector{Any})",
            "   @ Base .\\process.jl:100",
            " [2] #690",
            "   @ .\\process.jl:113 [inlined]",
            " [3] setup_stdios(f::Base.var\"#690#691\"{Cmd}, stdios::Vector{Any})",
            "   @ Base .\\process.jl:197",
            " [4] _spawn",
            "   @ .\\process.jl:112 [inlined]",
            " [5] run(::Cmd; wait::Bool)",
            "   @ Base .\\process.jl:445",
            " [6] run(::Cmd)",
            "   @ Base .\\process.jl:444",
            " [7] top-level scope",
            "   @ In[63]:1",
            " [8] eval",
            "   @ .\\boot.jl:373 [inlined]",
            " [9] include_string(mapexpr::typeof(REPL.softscope), mod::Module, code::String, filename::String)",
            "   @ Base .\\loading.jl:1196"
          ]
        }
      ],
      "execution_count": 63,
      "metadata": {
        "collapsed": true,
        "jupyter": {
          "source_hidden": false,
          "outputs_hidden": false
        },
        "nteract": {
          "transient": {
            "deleting": false
          }
        },
        "execution": {
          "iopub.status.busy": "2021-12-17T09:09:23.337Z",
          "iopub.execute_input": "2021-12-17T09:09:23.345Z"
        }
      }
    },
    {
      "cell_type": "code",
      "source": [
        "t =String(read(run(`cmd /c echo hello`)))"
      ],
      "outputs": [
        {
          "output_type": "stream",
          "name": "stdout",
          "text": [
            "hello\r\n"
          ]
        },
        {
          "output_type": "execute_result",
          "execution_count": 101,
          "data": {
            "text/plain": "\"\""
          },
          "metadata": {}
        }
      ],
      "execution_count": 101,
      "metadata": {
        "collapsed": true,
        "jupyter": {
          "source_hidden": false,
          "outputs_hidden": false
        },
        "nteract": {
          "transient": {
            "deleting": false
          }
        },
        "execution": {
          "iopub.status.busy": "2021-12-17T10:43:06.159Z",
          "iopub.execute_input": "2021-12-17T10:43:06.166Z",
          "iopub.status.idle": "2021-12-17T10:43:06.249Z"
        }
      }
    },
    {
      "cell_type": "code",
      "source": [
        "p,=read(run(`cmd /c wolframscript -script D:\\\\Temp\\\\sock.wls`))"
      ],
      "outputs": [
        {
          "output_type": "stream",
          "name": "stdout",
          "text": [
            "tcp://127.0.0.1:54458\r\n"
          ]
        },
        {
          "output_type": "error",
          "ename": "LoadError",
          "evalue": "BoundsError: attempt to access 0-element Vector{UInt8} at index [1]",
          "traceback": [
            "BoundsError: attempt to access 0-element Vector{UInt8} at index [1]",
            "",
            "Stacktrace:",
            " [1] getindex",
            "   @ .\\array.jl:861 [inlined]",
            " [2] indexed_iterate (repeats 2 times)",
            "   @ .\\tuple.jl:90 [inlined]",
            " [3] top-level scope",
            "   @ In[105]:1",
            " [4] eval",
            "   @ .\\boot.jl:373 [inlined]",
            " [5] include_string(mapexpr::typeof(REPL.softscope), mod::Module, code::String, filename::String)",
            "   @ Base .\\loading.jl:1196"
          ]
        }
      ],
      "execution_count": 105,
      "metadata": {
        "collapsed": true,
        "jupyter": {
          "source_hidden": false,
          "outputs_hidden": false
        },
        "nteract": {
          "transient": {
            "deleting": false
          }
        },
        "execution": {
          "iopub.status.busy": "2021-12-17T10:45:41.013Z",
          "iopub.execute_input": "2021-12-17T10:45:41.023Z",
          "iopub.status.idle": "2021-12-17T09:36:07.998Z"
        }
      }
    },
    {
      "cell_type": "code",
      "source": [
        "println(p)"
      ],
      "outputs": [
        {
          "output_type": "stream",
          "name": "stdout",
          "text": [
            "UInt8[]\n"
          ]
        }
      ],
      "execution_count": 106,
      "metadata": {
        "collapsed": true,
        "jupyter": {
          "source_hidden": false,
          "outputs_hidden": false
        },
        "nteract": {
          "transient": {
            "deleting": false
          }
        },
        "execution": {
          "iopub.status.busy": "2021-12-17T10:45:54.068Z",
          "iopub.execute_input": "2021-12-17T10:45:54.076Z",
          "iopub.status.idle": "2021-12-17T10:45:54.100Z"
        }
      }
    },
    {
      "cell_type": "code",
      "source": [
        "\"Run a Cmd object, returning the stdout & stderr contents plus the exit code\"\n",
        "function execute(cmd::Cmd)\n",
        "  out = Pipe()\n",
        "  err = Pipe()\n",
        "\n",
        "  process = run(pipeline(ignorestatus(cmd), stdout=out, stderr=err))\n",
        "  close(out.in)\n",
        "  close(err.in)\n",
        "\n",
        "  (\n",
        "    stdout = String(read(out)), \n",
        "    stderr = String(read(err)),  \n",
        "    code = process.exitcode\n",
        "  )\n",
        "end\n",
        "\n",
        "execute(`dir`)\n",
        "execute(`ls --invalid-option`)"
      ],
      "outputs": [
        {
          "output_type": "error",
          "ename": "LoadError",
          "evalue": "IOError: could not spawn `dir`: no such file or directory (ENOENT)",
          "traceback": [
            "IOError: could not spawn `dir`: no such file or directory (ENOENT)",
            "",
            "Stacktrace:",
            "  [1] _spawn_primitive(file::String, cmd::Cmd, stdio::Vector{Any})",
            "    @ Base .\\process.jl:100",
            "  [2] #690",
            "    @ .\\process.jl:113 [inlined]",
            "  [3] setup_stdios(f::Base.var\"#690#691\"{Cmd}, stdios::Vector{Any})",
            "    @ Base .\\process.jl:197",
            "  [4] _spawn",
            "    @ .\\process.jl:112 [inlined]",
            "  [5] _spawn(::Base.CmdRedirect, ::Vector{Any}) (repeats 2 times)",
            "    @ Base .\\process.jl:140",
            "  [6] run(::Base.CmdRedirect; wait::Bool)",
            "    @ Base .\\process.jl:445",
            "  [7] run",
            "    @ .\\process.jl:444 [inlined]",
            "  [8] execute(cmd::Cmd)",
            "    @ Main .\\In[100]:6",
            "  [9] top-level scope",
            "    @ In[100]:17",
            " [10] eval",
            "    @ .\\boot.jl:373 [inlined]",
            " [11] include_string(mapexpr::typeof(REPL.softscope), mod::Module, code::String, filename::String)",
            "    @ Base .\\loading.jl:1196"
          ]
        }
      ],
      "execution_count": 100,
      "metadata": {
        "collapsed": true,
        "jupyter": {
          "source_hidden": false,
          "outputs_hidden": false
        },
        "nteract": {
          "transient": {
            "deleting": false
          }
        },
        "execution": {
          "iopub.status.busy": "2021-12-17T10:41:58.926Z",
          "iopub.execute_input": "2021-12-17T10:41:58.933Z"
        }
      }
    },
    {
      "cell_type": "code",
      "source": [
        "function execute(cmd::Cmd)\n",
        "  out = Pipe()\n",
        "  err = Pipe()\n",
        "\n",
        "  process = run(pipeline(ignorestatus(cmd), stdout=out, stderr=err))\n",
        "  close(out.in)\n",
        "  close(err.in)\n",
        "  stdout = @async String(read(out))\n",
        "  stderr = @async String(read(err))\n",
        "  (\n",
        "    stdout = String(read(out)), \n",
        "    stderr = String(read(err)),  \n",
        "    code = process.exitcode\n",
        "  )\n",
        "end"
      ],
      "outputs": [
        {
          "output_type": "execute_result",
          "execution_count": 103,
          "data": {
            "text/plain": "execute (generic function with 1 method)"
          },
          "metadata": {}
        }
      ],
      "execution_count": 103,
      "metadata": {
        "collapsed": true,
        "jupyter": {
          "source_hidden": false,
          "outputs_hidden": false
        },
        "nteract": {
          "transient": {
            "deleting": false
          }
        },
        "execution": {
          "iopub.status.busy": "2021-12-17T10:44:38.456Z",
          "iopub.execute_input": "2021-12-17T10:44:38.469Z",
          "iopub.status.idle": "2021-12-17T10:44:38.516Z"
        }
      }
    },
    {
      "cell_type": "code",
      "source": [
        "a, = execute(`cmd /c dir C:`); println(a)"
      ],
      "outputs": [
        {
          "output_type": "stream",
          "name": "stdout",
          "text": [
            " Volume in drive C has no label.\r\n",
            " Volume Serial Number is 42E5-0202\r\n",
            "\r\n",
            " Directory of C:\\Users\\suman\\Documents\r\n",
            "\r\n",
            "17-12-2021  13:19    <DIR>          .\r\n",
            "17-12-2021  13:19    <DIR>          ..\r\n",
            "03-12-2021  15:35    <DIR>          codeparser\r\n",
            "17-12-2021  16:00            12,438 julia calling WL.ipynb\r\n",
            "02-12-2021  20:57               213 openssh-key.pub\r\n",
            "06-12-2021  14:48    <DIR>          putty\r\n",
            "03-12-2021  05:05             1,611 putty-private.ppk\r\n",
            "03-12-2021  05:05               477 putty-public.pub\r\n",
            "06-12-2021  17:12    <DIR>          Python Scripts\r\n",
            "08-12-2021  16:12    <DIR>          sublime-wolframlanguage\r\n",
            "17-12-2021  13:18             3,462 Untitled.ipynb\r\n",
            "02-12-2021  18:55    <DIR>          Visual Studio 2022\r\n",
            "01-12-2021  14:34    <DIR>          Wolfram Mathematica\r\n",
            "               5 File(s)         18,201 bytes\r\n",
            "               8 Dir(s)  364,182,081,536 bytes free\r\n",
            "\n"
          ]
        }
      ],
      "execution_count": 104,
      "metadata": {
        "collapsed": true,
        "jupyter": {
          "source_hidden": false,
          "outputs_hidden": false
        },
        "nteract": {
          "transient": {
            "deleting": false
          }
        },
        "execution": {
          "iopub.status.busy": "2021-12-17T10:44:51.204Z",
          "iopub.execute_input": "2021-12-17T10:44:51.211Z",
          "iopub.status.idle": "2021-12-17T10:44:51.228Z"
        }
      }
    },
    {
      "cell_type": "code",
      "source": [
        "a, = execute(`cmd /c cmd /c wolframscript -script D:\\\\Temp\\\\sock.wls C:`); \n",
        "\n",
        "sc=chop(a, head = 0, tail = 2)\n"
      ],
      "outputs": [
        {
          "output_type": "execute_result",
          "execution_count": 124,
          "data": {
            "text/plain": "\"tcp://127.0.0.1:50757\""
          },
          "metadata": {}
        }
      ],
      "execution_count": 124,
      "metadata": {
        "collapsed": true,
        "jupyter": {
          "source_hidden": false,
          "outputs_hidden": false
        },
        "nteract": {
          "transient": {
            "deleting": false
          }
        },
        "execution": {
          "iopub.status.busy": "2021-12-17T10:52:54.263Z",
          "iopub.execute_input": "2021-12-17T10:52:54.273Z",
          "iopub.status.idle": "2021-12-17T10:53:01.197Z"
        }
      }
    },
    {
      "cell_type": "code",
      "source": [
        "sc"
      ],
      "outputs": [
        {
          "output_type": "execute_result",
          "execution_count": 125,
          "data": {
            "text/plain": "\"tcp://127.0.0.1:50757\""
          },
          "metadata": {}
        }
      ],
      "execution_count": 125,
      "metadata": {
        "collapsed": true,
        "jupyter": {
          "source_hidden": false,
          "outputs_hidden": false
        },
        "nteract": {
          "transient": {
            "deleting": false
          }
        },
        "execution": {
          "iopub.status.busy": "2021-12-17T10:53:03.543Z",
          "iopub.execute_input": "2021-12-17T10:53:03.566Z",
          "iopub.status.idle": "2021-12-17T10:53:03.587Z"
        }
      }
    },
    {
      "cell_type": "code",
      "source": [
        "using ZMQ\n",
        "ctx = Context(1)\n",
        "s = Socket(ctx, PAIR)\n",
        "ZMQ.connect(s,String(sc))"
      ],
      "outputs": [],
      "execution_count": 139,
      "metadata": {
        "collapsed": true,
        "jupyter": {
          "source_hidden": false,
          "outputs_hidden": false
        },
        "nteract": {
          "transient": {
            "deleting": false
          }
        },
        "execution": {
          "iopub.status.busy": "2021-12-17T10:58:35.182Z",
          "iopub.execute_input": "2021-12-17T10:58:35.190Z",
          "iopub.status.idle": "2021-12-17T10:58:35.204Z"
        }
      }
    },
    {
      "cell_type": "code",
      "source": [
        "typeof(String(sc))"
      ],
      "outputs": [
        {
          "output_type": "execute_result",
          "execution_count": 137,
          "data": {
            "text/plain": "String"
          },
          "metadata": {}
        }
      ],
      "execution_count": 137,
      "metadata": {
        "collapsed": true,
        "jupyter": {
          "source_hidden": false,
          "outputs_hidden": false
        },
        "nteract": {
          "transient": {
            "deleting": false
          }
        },
        "execution": {
          "iopub.status.busy": "2021-12-17T10:58:20.068Z",
          "iopub.execute_input": "2021-12-17T10:58:20.079Z",
          "iopub.status.idle": "2021-12-17T10:58:20.096Z"
        }
      }
    },
    {
      "cell_type": "code",
      "source": [
        "chop(a, head = 0, tail = 2)"
      ],
      "outputs": [
        {
          "output_type": "execute_result",
          "execution_count": 123,
          "data": {
            "text/plain": "\"tcp://127.0.0.1:49735\""
          },
          "metadata": {}
        }
      ],
      "execution_count": 123,
      "metadata": {
        "collapsed": true,
        "jupyter": {
          "source_hidden": false,
          "outputs_hidden": false
        },
        "nteract": {
          "transient": {
            "deleting": false
          }
        },
        "execution": {
          "iopub.status.busy": "2021-12-17T10:52:30.862Z",
          "iopub.execute_input": "2021-12-17T10:52:30.873Z",
          "iopub.status.idle": "2021-12-17T10:52:30.893Z"
        }
      }
    },
    {
      "cell_type": "code",
      "source": [],
      "outputs": [],
      "execution_count": null,
      "metadata": {
        "collapsed": true,
        "jupyter": {
          "source_hidden": false,
          "outputs_hidden": false
        },
        "nteract": {
          "transient": {
            "deleting": false
          }
        }
      }
    }
  ],
  "metadata": {
    "kernel_info": {
      "name": "python3"
    },
    "language_info": {
      "file_extension": ".jl",
      "name": "julia",
      "mimetype": "application/julia",
      "version": "1.7.0"
    },
    "kernelspec": {
      "argv": [
        "C:/Users/suman/anaconda3\\python.exe",
        "-m",
        "ipykernel_launcher",
        "-f",
        "{connection_file}"
      ],
      "display_name": "Python 3 (ipykernel)",
      "language": "python",
      "metadata": {
        "debugger": true
      },
      "name": "python3"
    },
    "nteract": {
      "version": "0.28.0"
    }
  },
  "nbformat": 4,
  "nbformat_minor": 0
}