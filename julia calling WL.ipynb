{
 "cells": [
  {
   "cell_type": "code",
   "execution_count": 1,
   "metadata": {
    "execution": {
     "iopub.execute_input": "2021-12-24T00:23:49.002Z",
     "iopub.status.busy": "2021-12-24T00:23:48.992Z",
     "iopub.status.idle": "2021-12-24T00:23:24.040Z",
     "shell.execute_reply": "2021-12-24T00:23:24.050Z"
    },
    "jupyter": {
     "outputs_hidden": false,
     "source_hidden": false
    },
    "nteract": {
     "transient": {
      "deleting": false
     }
    }
   },
   "outputs": [
    {
     "data": {
      "text/plain": [
       "f (generic function with 1 method)"
      ]
     },
     "execution_count": 1,
     "metadata": {},
     "output_type": "execute_result"
    }
   ],
   "source": [
    "2+2\n",
    "f(x)=x"
   ]
  },
  {
   "cell_type": "code",
   "execution_count": 2,
   "metadata": {
    "execution": {
     "iopub.execute_input": "2021-12-24T00:23:12.841Z",
     "iopub.status.busy": "2021-12-24T00:23:12.829Z",
     "iopub.status.idle": "2021-12-17T07:41:43.654Z"
    },
    "jupyter": {
     "outputs_hidden": false,
     "source_hidden": false
    },
    "nteract": {
     "transient": {
      "deleting": false
     }
    }
   },
   "outputs": [
    {
     "data": {
      "text/plain": [
       "iden (generic function with 1 method)"
      ]
     },
     "execution_count": 2,
     "metadata": {},
     "output_type": "execute_result"
    }
   ],
   "source": [
    "iden(x)=x"
   ]
  },
  {
   "cell_type": "code",
   "execution_count": 6,
   "metadata": {
    "execution": {
     "iopub.execute_input": "2021-12-17T07:41:49.679Z",
     "iopub.status.busy": "2021-12-17T07:41:49.667Z",
     "iopub.status.idle": "2021-12-17T07:41:49.699Z"
    },
    "jupyter": {
     "outputs_hidden": false,
     "source_hidden": false
    },
    "nteract": {
     "transient": {
      "deleting": false
     }
    }
   },
   "outputs": [],
   "source": [
    "using JSON"
   ]
  },
  {
   "cell_type": "code",
   "execution_count": 1,
   "metadata": {
    "execution": {
     "iopub.execute_input": "2021-12-17T08:09:06.713Z",
     "iopub.status.busy": "2021-12-17T08:09:06.706Z",
     "iopub.status.idle": "2021-12-17T08:09:06.720Z"
    },
    "jupyter": {
     "outputs_hidden": false,
     "source_hidden": false
    },
    "nteract": {
     "transient": {
      "deleting": false
     }
    }
   },
   "outputs": [],
   "source": [
    "using ZMQ\n",
    "using JSON\n",
    "using JSON3\n",
    "ctx = Context(1)\n",
    "s = Socket(ctx, PAIR)\n",
    "ZMQ.connect(s, \"tcp://127.0.0.1:9003\")"
   ]
  },
  {
   "cell_type": "code",
   "execution_count": 23,
   "metadata": {
    "execution": {
     "iopub.execute_input": "2021-12-17T08:09:39.834Z",
     "iopub.status.busy": "2021-12-17T08:09:39.829Z",
     "iopub.status.idle": "2021-12-17T08:09:39.842Z"
    },
    "jupyter": {
     "outputs_hidden": false,
     "source_hidden": false
    },
    "nteract": {
     "transient": {
      "deleting": false
     }
    }
   },
   "outputs": [],
   "source": [
    "ZMQ.send(s, \"2+12\")"
   ]
  },
  {
   "cell_type": "code",
   "execution_count": 24,
   "metadata": {
    "execution": {
     "iopub.execute_input": "2021-12-17T08:52:28.646Z",
     "iopub.status.busy": "2021-12-17T08:52:28.640Z",
     "iopub.status.idle": "2021-12-17T08:52:28.659Z"
    },
    "jupyter": {
     "outputs_hidden": false,
     "source_hidden": false
    },
    "nteract": {
     "transient": {
      "deleting": false
     }
    }
   },
   "outputs": [
    {
     "data": {
      "text/plain": [
       "14"
      ]
     },
     "execution_count": 24,
     "metadata": {},
     "output_type": "execute_result"
    }
   ],
   "source": [
    "msg = ZMQ.recv(s)\n",
    "res =  String(UInt8.(msg))\n",
    "JSON3.read(res)[\"Output\"]"
   ]
  },
  {
   "cell_type": "code",
   "execution_count": 7,
   "metadata": {
    "execution": {
     "iopub.execute_input": "2021-12-17T08:54:25.269Z",
     "iopub.status.busy": "2021-12-17T08:54:25.263Z",
     "iopub.status.idle": "2021-12-17T08:54:25.282Z"
    },
    "jupyter": {
     "outputs_hidden": false,
     "source_hidden": false
    },
    "nteract": {
     "transient": {
      "deleting": false
     }
    }
   },
   "outputs": [
    {
     "data": {
      "text/plain": [
       "\"{\\\"Output\\\":10}\""
      ]
     },
     "execution_count": 7,
     "metadata": {},
     "output_type": "execute_result"
    }
   ],
   "source": [
    "res =  String(UInt8.(msg))"
   ]
  },
  {
   "cell_type": "code",
   "execution_count": 8,
   "metadata": {
    "execution": {
     "iopub.execute_input": "2021-12-17T08:54:15.929Z",
     "iopub.status.busy": "2021-12-17T08:54:15.923Z",
     "iopub.status.idle": "2021-12-17T08:54:15.939Z"
    },
    "jupyter": {
     "outputs_hidden": false,
     "source_hidden": false
    },
    "nteract": {
     "transient": {
      "deleting": false
     }
    }
   },
   "outputs": [],
   "source": [
    "using JSON"
   ]
  },
  {
   "cell_type": "code",
   "execution_count": 9,
   "metadata": {
    "execution": {
     "iopub.execute_input": "2021-12-17T08:55:45.959Z",
     "iopub.status.busy": "2021-12-17T08:55:45.954Z",
     "iopub.status.idle": "2021-12-17T08:55:45.971Z"
    },
    "jupyter": {
     "outputs_hidden": false,
     "source_hidden": false
    },
    "nteract": {
     "transient": {
      "deleting": false
     }
    }
   },
   "outputs": [
    {
     "data": {
      "text/plain": [
       "20"
      ]
     },
     "execution_count": 9,
     "metadata": {},
     "output_type": "execute_result"
    }
   ],
   "source": [
    "JSON.parse(res)[\"Output\"]*2"
   ]
  },
  {
   "cell_type": "code",
   "execution_count": 63,
   "metadata": {
    "collapsed": true,
    "execution": {
     "iopub.execute_input": "2021-12-17T09:09:23.345Z",
     "iopub.status.busy": "2021-12-17T09:09:23.337Z"
    },
    "jupyter": {
     "outputs_hidden": false,
     "source_hidden": false
    },
    "nteract": {
     "transient": {
      "deleting": false
     }
    }
   },
   "outputs": [
    {
     "ename": "LoadError",
     "evalue": "IOError: could not spawn `dir`: no such file or directory (ENOENT)",
     "output_type": "error",
     "traceback": [
      "IOError: could not spawn `dir`: no such file or directory (ENOENT)",
      "",
      "Stacktrace:",
      " [1] _spawn_primitive(file::String, cmd::Cmd, stdio::Vector{Any})",
      "   @ Base .\\process.jl:100",
      " [2] #690",
      "   @ .\\process.jl:113 [inlined]",
      " [3] setup_stdios(f::Base.var\"#690#691\"{Cmd}, stdios::Vector{Any})",
      "   @ Base .\\process.jl:197",
      " [4] _spawn",
      "   @ .\\process.jl:112 [inlined]",
      " [5] run(::Cmd; wait::Bool)",
      "   @ Base .\\process.jl:445",
      " [6] run(::Cmd)",
      "   @ Base .\\process.jl:444",
      " [7] top-level scope",
      "   @ In[63]:1",
      " [8] eval",
      "   @ .\\boot.jl:373 [inlined]",
      " [9] include_string(mapexpr::typeof(REPL.softscope), mod::Module, code::String, filename::String)",
      "   @ Base .\\loading.jl:1196"
     ]
    }
   ],
   "source": [
    "run(`dir`)"
   ]
  },
  {
   "cell_type": "code",
   "execution_count": 101,
   "metadata": {
    "collapsed": true,
    "execution": {
     "iopub.execute_input": "2021-12-17T10:43:06.166Z",
     "iopub.status.busy": "2021-12-17T10:43:06.159Z",
     "iopub.status.idle": "2021-12-17T10:43:06.249Z"
    },
    "jupyter": {
     "outputs_hidden": false,
     "source_hidden": false
    },
    "nteract": {
     "transient": {
      "deleting": false
     }
    }
   },
   "outputs": [
    {
     "name": "stdout",
     "output_type": "stream",
     "text": [
      "hello\r\n"
     ]
    },
    {
     "data": {
      "text/plain": [
       "\"\""
      ]
     },
     "execution_count": 101,
     "metadata": {},
     "output_type": "execute_result"
    }
   ],
   "source": [
    "t =String(read(run(`cmd /c echo hello`)))"
   ]
  },
  {
   "cell_type": "code",
   "execution_count": 105,
   "metadata": {
    "collapsed": true,
    "execution": {
     "iopub.execute_input": "2021-12-17T10:45:41.023Z",
     "iopub.status.busy": "2021-12-17T10:45:41.013Z",
     "iopub.status.idle": "2021-12-17T09:36:07.998Z"
    },
    "jupyter": {
     "outputs_hidden": false,
     "source_hidden": false
    },
    "nteract": {
     "transient": {
      "deleting": false
     }
    }
   },
   "outputs": [
    {
     "name": "stdout",
     "output_type": "stream",
     "text": [
      "tcp://127.0.0.1:54458\r\n"
     ]
    },
    {
     "ename": "LoadError",
     "evalue": "BoundsError: attempt to access 0-element Vector{UInt8} at index [1]",
     "output_type": "error",
     "traceback": [
      "BoundsError: attempt to access 0-element Vector{UInt8} at index [1]",
      "",
      "Stacktrace:",
      " [1] getindex",
      "   @ .\\array.jl:861 [inlined]",
      " [2] indexed_iterate (repeats 2 times)",
      "   @ .\\tuple.jl:90 [inlined]",
      " [3] top-level scope",
      "   @ In[105]:1",
      " [4] eval",
      "   @ .\\boot.jl:373 [inlined]",
      " [5] include_string(mapexpr::typeof(REPL.softscope), mod::Module, code::String, filename::String)",
      "   @ Base .\\loading.jl:1196"
     ]
    }
   ],
   "source": [
    "p,=read(run(`cmd /c wolframscript -script D:\\\\Temp\\\\sock.wls`))"
   ]
  },
  {
   "cell_type": "code",
   "execution_count": 106,
   "metadata": {
    "collapsed": true,
    "execution": {
     "iopub.execute_input": "2021-12-17T10:45:54.076Z",
     "iopub.status.busy": "2021-12-17T10:45:54.068Z",
     "iopub.status.idle": "2021-12-17T10:45:54.100Z"
    },
    "jupyter": {
     "outputs_hidden": false,
     "source_hidden": false
    },
    "nteract": {
     "transient": {
      "deleting": false
     }
    }
   },
   "outputs": [
    {
     "name": "stdout",
     "output_type": "stream",
     "text": [
      "UInt8[]\n"
     ]
    }
   ],
   "source": [
    "println(p)"
   ]
  },
  {
   "cell_type": "code",
   "execution_count": 100,
   "metadata": {
    "collapsed": true,
    "execution": {
     "iopub.execute_input": "2021-12-17T10:41:58.933Z",
     "iopub.status.busy": "2021-12-17T10:41:58.926Z"
    },
    "jupyter": {
     "outputs_hidden": false,
     "source_hidden": false
    },
    "nteract": {
     "transient": {
      "deleting": false
     }
    }
   },
   "outputs": [
    {
     "ename": "LoadError",
     "evalue": "IOError: could not spawn `dir`: no such file or directory (ENOENT)",
     "output_type": "error",
     "traceback": [
      "IOError: could not spawn `dir`: no such file or directory (ENOENT)",
      "",
      "Stacktrace:",
      "  [1] _spawn_primitive(file::String, cmd::Cmd, stdio::Vector{Any})",
      "    @ Base .\\process.jl:100",
      "  [2] #690",
      "    @ .\\process.jl:113 [inlined]",
      "  [3] setup_stdios(f::Base.var\"#690#691\"{Cmd}, stdios::Vector{Any})",
      "    @ Base .\\process.jl:197",
      "  [4] _spawn",
      "    @ .\\process.jl:112 [inlined]",
      "  [5] _spawn(::Base.CmdRedirect, ::Vector{Any}) (repeats 2 times)",
      "    @ Base .\\process.jl:140",
      "  [6] run(::Base.CmdRedirect; wait::Bool)",
      "    @ Base .\\process.jl:445",
      "  [7] run",
      "    @ .\\process.jl:444 [inlined]",
      "  [8] execute(cmd::Cmd)",
      "    @ Main .\\In[100]:6",
      "  [9] top-level scope",
      "    @ In[100]:17",
      " [10] eval",
      "    @ .\\boot.jl:373 [inlined]",
      " [11] include_string(mapexpr::typeof(REPL.softscope), mod::Module, code::String, filename::String)",
      "    @ Base .\\loading.jl:1196"
     ]
    }
   ],
   "source": [
    "\"Run a Cmd object, returning the stdout & stderr contents plus the exit code\"\n",
    "function execute(cmd::Cmd)\n",
    "  out = Pipe()\n",
    "  err = Pipe()\n",
    "\n",
    "  process = run(pipeline(ignorestatus(cmd), stdout=out, stderr=err))\n",
    "  close(out.in)\n",
    "  close(err.in)\n",
    "\n",
    "  (\n",
    "    stdout = String(read(out)), \n",
    "    stderr = String(read(err)),  \n",
    "    code = process.exitcode\n",
    "  )\n",
    "end\n",
    "\n",
    "execute(`dir`)\n",
    "execute(`ls --invalid-option`)"
   ]
  },
  {
   "cell_type": "code",
   "execution_count": 1,
   "metadata": {
    "execution": {
     "iopub.execute_input": "2021-12-17T10:44:38.469Z",
     "iopub.status.busy": "2021-12-17T10:44:38.456Z",
     "iopub.status.idle": "2021-12-17T10:44:38.516Z"
    },
    "jupyter": {
     "outputs_hidden": false,
     "source_hidden": false
    },
    "nteract": {
     "transient": {
      "deleting": false
     }
    }
   },
   "outputs": [
    {
     "data": {
      "text/plain": [
       "execute (generic function with 1 method)"
      ]
     },
     "execution_count": 1,
     "metadata": {},
     "output_type": "execute_result"
    }
   ],
   "source": [
    "function execute(cmd::Cmd)\n",
    "  out = Pipe()\n",
    "  err = Pipe()\n",
    "\n",
    "  process = run(pipeline(ignorestatus(cmd), stdout=out, stderr=err))\n",
    "  close(out.in)\n",
    "  close(err.in)\n",
    "  stdout = @async String(read(out))\n",
    "  stderr = @async String(read(err))\n",
    "  (\n",
    "    stdout = String(read(out)), \n",
    "    stderr = String(read(err)),  \n",
    "    code = process.exitcode\n",
    "  )\n",
    "end"
   ]
  },
  {
   "cell_type": "code",
   "execution_count": 2,
   "metadata": {
    "collapsed": true,
    "execution": {
     "iopub.execute_input": "2021-12-24T00:22:43.890Z",
     "iopub.status.busy": "2021-12-24T00:22:43.876Z",
     "iopub.status.idle": "2021-12-17T10:44:51.228Z"
    },
    "jupyter": {
     "outputs_hidden": false,
     "source_hidden": false
    },
    "nteract": {
     "transient": {
      "deleting": false
     }
    }
   },
   "outputs": [
    {
     "ename": "SyntaxError",
     "evalue": "invalid syntax (Temp/ipykernel_20792/4192953321.py, line 1)",
     "output_type": "error",
     "traceback": [
      "\u001b[1;36m  File \u001b[1;32m\"C:\\Users\\suman\\AppData\\Local\\Temp/ipykernel_20792/4192953321.py\"\u001b[1;36m, line \u001b[1;32m1\u001b[0m\n\u001b[1;33m    a, = execute(`cmd /c dir C:`); println(a)\u001b[0m\n\u001b[1;37m                 ^\u001b[0m\n\u001b[1;31mSyntaxError\u001b[0m\u001b[1;31m:\u001b[0m invalid syntax\n"
     ]
    }
   ],
   "source": [
    "a, = execute(`cmd /c dir C:`); println(a)"
   ]
  },
  {
   "cell_type": "code",
   "execution_count": 2,
   "metadata": {
    "execution": {
     "iopub.execute_input": "2021-12-24T00:21:57.912Z",
     "iopub.status.busy": "2021-12-24T00:21:57.902Z",
     "iopub.status.idle": "2021-12-17T10:53:01.197Z",
     "shell.execute_reply": "2021-12-24T00:21:57.787Z"
    },
    "jupyter": {
     "outputs_hidden": false,
     "source_hidden": false
    },
    "nteract": {
     "transient": {
      "deleting": false
     }
    }
   },
   "outputs": [],
   "source": [
    "a, = execute(`cmd /c cmd /c wolframscript -script D:\\\\Wolfram_Work\\\\personal-repo\\\\juliacallingwolframlanguage\\\\sock.wls C:`); \n",
    "\n",
    "# sc=chop(a, head = 0, tail = 2)\n"
   ]
  },
  {
   "cell_type": "code",
   "execution_count": 4,
   "metadata": {
    "execution": {
     "iopub.execute_input": "2021-12-17T10:53:03.566Z",
     "iopub.status.busy": "2021-12-17T10:53:03.543Z",
     "iopub.status.idle": "2021-12-17T10:53:03.587Z"
    },
    "jupyter": {
     "outputs_hidden": false,
     "source_hidden": false
    },
    "nteract": {
     "transient": {
      "deleting": false
     }
    }
   },
   "outputs": [
    {
     "data": {
      "text/plain": [
       "\"\""
      ]
     },
     "execution_count": 4,
     "metadata": {},
     "output_type": "execute_result"
    }
   ],
   "source": [
    "sc"
   ]
  },
  {
   "cell_type": "code",
   "execution_count": 8,
   "metadata": {
    "execution": {
     "iopub.execute_input": "2021-12-17T10:58:35.190Z",
     "iopub.status.busy": "2021-12-17T10:58:35.182Z",
     "iopub.status.idle": "2021-12-17T10:58:35.204Z"
    },
    "jupyter": {
     "outputs_hidden": false,
     "source_hidden": false
    },
    "nteract": {
     "transient": {
      "deleting": false
     }
    }
   },
   "outputs": [],
   "source": [
    "using ZMQ\n",
    "ctx = Context(1)\n",
    "s = Socket(ctx, PAIR)\n",
    "ZMQ.connect(s,String(sc))"
   ]
  },
  {
   "cell_type": "code",
   "execution_count": 9,
   "metadata": {
    "execution": {
     "iopub.execute_input": "2021-12-17T10:58:20.079Z",
     "iopub.status.busy": "2021-12-17T10:58:20.068Z",
     "iopub.status.idle": "2021-12-17T10:58:20.096Z"
    },
    "jupyter": {
     "outputs_hidden": false,
     "source_hidden": false
    },
    "nteract": {
     "transient": {
      "deleting": false
     }
    }
   },
   "outputs": [
    {
     "data": {
      "text/plain": [
       "String"
      ]
     },
     "execution_count": 9,
     "metadata": {},
     "output_type": "execute_result"
    }
   ],
   "source": [
    "typeof(String(sc))"
   ]
  },
  {
   "cell_type": "code",
   "execution_count": 123,
   "metadata": {
    "collapsed": true,
    "execution": {
     "iopub.execute_input": "2021-12-17T10:52:30.873Z",
     "iopub.status.busy": "2021-12-17T10:52:30.862Z",
     "iopub.status.idle": "2021-12-17T10:52:30.893Z"
    },
    "jupyter": {
     "outputs_hidden": false,
     "source_hidden": false
    },
    "nteract": {
     "transient": {
      "deleting": false
     }
    }
   },
   "outputs": [
    {
     "data": {
      "text/plain": [
       "\"tcp://127.0.0.1:49735\""
      ]
     },
     "execution_count": 123,
     "metadata": {},
     "output_type": "execute_result"
    }
   ],
   "source": [
    "chop(a, head = 0, tail = 2)"
   ]
  },
  {
   "cell_type": "code",
   "execution_count": 2,
   "metadata": {
    "jupyter": {
     "outputs_hidden": false,
     "source_hidden": false
    },
    "nteract": {
     "transient": {
      "deleting": false
     }
    }
   },
   "outputs": [],
   "source": [
    "ZMQ.send(s, \"s1 = NDSolve[{y'[x] == y[x] Cos[x + y[x]], y[0] == 1}, y, {x, 0, 30}];\n",
    "Table[Evaluate[y[x] /. s1], {x, 0, 30}]\")"
   ]
  },
  {
   "cell_type": "code",
   "execution_count": 3,
   "metadata": {},
   "outputs": [
    {
     "data": {
      "text/plain": [
       "31-element Vector{Any}:\n",
       " Any[1.0]\n",
       " Any[0.9913873390555514]\n",
       " Any[0.5283578206611237]\n",
       " Any[0.20660353335434747]\n",
       " Any[0.08807178741377332]\n",
       " Any[0.07731208925965385]\n",
       " Any[0.16258008843017688]\n",
       " Any[0.3735603866555919]\n",
       " Any[0.3584106998601269]\n",
       " Any[0.16652813572500585]\n",
       " Any[0.06434901313289947]\n",
       " Any[0.04249864284449634]\n",
       " Any[0.07040727661517145]\n",
       " ⋮\n",
       " Any[0.09847240552668855]\n",
       " Any[0.1910258481117187]\n",
       " Any[0.1488470139240512]\n",
       " Any[0.06092201503448472]\n",
       " Any[0.026822441074943002]\n",
       " Any[0.025870964111285043]\n",
       " Any[0.05711398630942156]\n",
       " Any[0.13399362127583792]\n",
       " Any[0.14110671300193925]\n",
       " Any[0.06625568361604169]\n",
       " Any[0.02620210957288905]\n",
       " Any[0.019301763999016796]"
      ]
     },
     "execution_count": 3,
     "metadata": {},
     "output_type": "execute_result"
    }
   ],
   "source": [
    "msg = ZMQ.recv(s)\n",
    "res =  String(UInt8.(msg))\n",
    "f = JSON.parse(res)[\"Output\"]\n",
    "# JSON3.read(res)[\"Output\"]"
   ]
  },
  {
   "cell_type": "code",
   "execution_count": 12,
   "metadata": {},
   "outputs": [
    {
     "data": {
      "text/plain": [
       "31-element Vector{Any}:\n",
       " Any[1.0]\n",
       " Any[0.9913873390555514]\n",
       " Any[0.5283578206611237]\n",
       " Any[0.20660353335434747]\n",
       " Any[0.08807178741377332]\n",
       " Any[0.07731208925965385]\n",
       " Any[0.16258008843017688]\n",
       " Any[0.3735603866555919]\n",
       " Any[0.3584106998601269]\n",
       " Any[0.16652813572500585]\n",
       " Any[0.06434901313289947]\n",
       " Any[0.04249864284449634]\n",
       " Any[0.07040727661517145]\n",
       " ⋮\n",
       " Any[0.09847240552668855]\n",
       " Any[0.1910258481117187]\n",
       " Any[0.1488470139240512]\n",
       " Any[0.06092201503448472]\n",
       " Any[0.026822441074943002]\n",
       " Any[0.025870964111285043]\n",
       " Any[0.05711398630942156]\n",
       " Any[0.13399362127583792]\n",
       " Any[0.14110671300193925]\n",
       " Any[0.06625568361604169]\n",
       " Any[0.02620210957288905]\n",
       " Any[0.019301763999016796]"
      ]
     },
     "execution_count": 12,
     "metadata": {},
     "output_type": "execute_result"
    }
   ],
   "source": [
    "msg = ZMQ.recv(s)\n",
    "res =  String(UInt8.(msg))\n",
    "f = JSON.parse(res)[\"Output\"]\n"
   ]
  },
  {
   "cell_type": "code",
   "execution_count": 1,
   "metadata": {},
   "outputs": [
    {
     "data": {
      "text/plain": [
       "ZMQ.Socket(Ptr{Nothing} @0x0000000000000000, FileWatching._FDWatcher(Ptr{Nothing} @0x0000000000000000, 0, (0, 0), Base.GenericCondition{Base.Threads.SpinLock}(Base.InvasiveLinkedList{Task}(nothing, nothing), Base.Threads.SpinLock(0)), 0, (false, false)))"
      ]
     },
     "execution_count": 1,
     "metadata": {},
     "output_type": "execute_result"
    }
   ],
   "source": [
    " cd(\"D:\\\\Wolfram_Work\\\\personal-repo\\\\juliacallingwolframlanguage\\\\Wolfram\\\\src\")\n",
    "include(\"WOlfram.jl\")\n",
    "p=Wolfram.SocketConnect(\"5558\")"
   ]
  },
  {
   "cell_type": "code",
   "execution_count": 2,
   "metadata": {},
   "outputs": [],
   "source": [
    "using ZMQ"
   ]
  },
  {
   "cell_type": "code",
   "execution_count": 4,
   "metadata": {},
   "outputs": [
    {
     "ename": "LoadError",
     "evalue": "StateError(\"Unknown error\")",
     "output_type": "error",
     "traceback": [
      "StateError(\"Unknown error\")",
      "",
      "Stacktrace:",
      " [1] _send(socket::Socket, zmsg::Base.RefValue{ZMQ._Message}, more::Bool)",
      "   @ ZMQ C:\\Users\\suman\\.julia\\packages\\ZMQ\\R3wSD\\src\\comm.jl:14",
      " [2] send(socket::Socket, data::String; more::Bool)",
      "   @ ZMQ C:\\Users\\suman\\.julia\\packages\\ZMQ\\R3wSD\\src\\comm.jl:45",
      " [3] send(socket::Socket, data::String)",
      "   @ ZMQ C:\\Users\\suman\\.julia\\packages\\ZMQ\\R3wSD\\src\\comm.jl:43",
      " [4] top-level scope",
      "   @ In[4]:1",
      " [5] eval",
      "   @ .\\boot.jl:373 [inlined]",
      " [6] include_string(mapexpr::typeof(REPL.softscope), mod::Module, code::String, filename::String)",
      "   @ Base .\\loading.jl:1196"
     ]
    }
   ],
   "source": [
    "ZMQ.send(p,\"2+2\")"
   ]
  },
  {
   "cell_type": "code",
   "execution_count": null,
   "metadata": {},
   "outputs": [],
   "source": [
    "sc=chop(a, head = 0, tail = 2)"
   ]
  },
  {
   "cell_type": "code",
   "execution_count": 14,
   "metadata": {},
   "outputs": [
    {
     "ename": "LoadError",
     "evalue": "MethodError: \u001b[0mCannot `convert` an object of type \u001b[92mVector{Any}\u001b[39m\u001b[0m to an object of type \u001b[91mFloat64\u001b[39m\n\u001b[0mClosest candidates are:\n\u001b[0m  convert(::Type{T}, \u001b[91m::T\u001b[39m) where T<:Number at C:\\Users\\suman\\AppData\\Local\\Programs\\Julia-1.7.0\\share\\julia\\base\\number.jl:6\n\u001b[0m  convert(::Type{T}, \u001b[91m::Number\u001b[39m) where T<:Number at C:\\Users\\suman\\AppData\\Local\\Programs\\Julia-1.7.0\\share\\julia\\base\\number.jl:7\n\u001b[0m  convert(::Type{T}, \u001b[91m::Base.TwicePrecision\u001b[39m) where T<:Number at C:\\Users\\suman\\AppData\\Local\\Programs\\Julia-1.7.0\\share\\julia\\base\\twiceprecision.jl:262\n\u001b[0m  ...",
     "output_type": "error",
     "traceback": [
      "MethodError: \u001b[0mCannot `convert` an object of type \u001b[92mVector{Any}\u001b[39m\u001b[0m to an object of type \u001b[91mFloat64\u001b[39m\n\u001b[0mClosest candidates are:\n\u001b[0m  convert(::Type{T}, \u001b[91m::T\u001b[39m) where T<:Number at C:\\Users\\suman\\AppData\\Local\\Programs\\Julia-1.7.0\\share\\julia\\base\\number.jl:6\n\u001b[0m  convert(::Type{T}, \u001b[91m::Number\u001b[39m) where T<:Number at C:\\Users\\suman\\AppData\\Local\\Programs\\Julia-1.7.0\\share\\julia\\base\\number.jl:7\n\u001b[0m  convert(::Type{T}, \u001b[91m::Base.TwicePrecision\u001b[39m) where T<:Number at C:\\Users\\suman\\AppData\\Local\\Programs\\Julia-1.7.0\\share\\julia\\base\\twiceprecision.jl:262\n\u001b[0m  ...",
      "",
      "Stacktrace:",
      "  [1] setindex!(A::Vector{Float64}, x::Vector{Any}, i1::Int64)",
      "    @ Base .\\array.jl:903",
      "  [2] _unsafe_copyto!(dest::Vector{Float64}, doffs::Int64, src::Vector{Any}, soffs::Int64, n::Int64)",
      "    @ Base .\\array.jl:253",
      "  [3] unsafe_copyto!",
      "    @ .\\array.jl:307 [inlined]",
      "  [4] _copyto_impl!",
      "    @ .\\array.jl:331 [inlined]",
      "  [5] copyto!",
      "    @ .\\array.jl:317 [inlined]",
      "  [6] copyto!",
      "    @ .\\array.jl:343 [inlined]",
      "  [7] copyto_axcheck!",
      "    @ .\\abstractarray.jl:1104 [inlined]",
      "  [8] Vector{Float64}(x::Vector{Any})",
      "    @ Base .\\array.jl:563",
      "  [9] convert(#unused#::Type{Vector{Float64}}, a::Vector{Any})",
      "    @ Base .\\array.jl:554",
      " [10] top-level scope",
      "    @ In[14]:1",
      " [11] eval",
      "    @ .\\boot.jl:373 [inlined]",
      " [12] include_string(mapexpr::typeof(REPL.softscope), mod::Module, code::String, filename::String)",
      "    @ Base .\\loading.jl:1196"
     ]
    }
   ],
   "source": [
    "convert(Vector{Float64}, f)"
   ]
  },
  {
   "cell_type": "code",
   "execution_count": 4,
   "metadata": {},
   "outputs": [
    {
     "data": {
      "text/plain": [
       "1×31 Matrix{Float64}:\n",
       " 1.0  0.991387  0.528358  0.206604  …  0.0662557  0.0262021  0.0193018"
      ]
     },
     "execution_count": 4,
     "metadata": {},
     "output_type": "execute_result"
    }
   ],
   "source": [
    "t=hcat(f...)"
   ]
  },
  {
   "cell_type": "code",
   "execution_count": 7,
   "metadata": {},
   "outputs": [
    {
     "data": {
      "image/svg+xml": [
       "<?xml version=\"1.0\" encoding=\"utf-8\"?>\n",
       "<svg xmlns=\"http://www.w3.org/2000/svg\" xmlns:xlink=\"http://www.w3.org/1999/xlink\" width=\"600\" height=\"400\" viewBox=\"0 0 2400 1600\">\n",
       "<defs>\n",
       "  <clipPath id=\"clip150\">\n",
       "    <rect x=\"0\" y=\"0\" width=\"2400\" height=\"1600\"/>\n",
       "  </clipPath>\n",
       "</defs>\n",
       "<path clip-path=\"url(#clip150)\" d=\"\n",
       "M0 1600 L2400 1600 L2400 0 L0 0  Z\n",
       "  \" fill=\"#ffffff\" fill-rule=\"evenodd\" fill-opacity=\"1\"/>\n",
       "<defs>\n",
       "  <clipPath id=\"clip151\">\n",
       "    <rect x=\"480\" y=\"0\" width=\"1681\" height=\"1600\"/>\n",
       "  </clipPath>\n",
       "</defs>\n",
       "<path clip-path=\"url(#clip150)\" d=\"\n",
       "M186.274 1486.45 L2352.76 1486.45 L2352.76 47.2441 L186.274 47.2441  Z\n",
       "  \" fill=\"#ffffff\" fill-rule=\"evenodd\" fill-opacity=\"1\"/>\n",
       "<defs>\n",
       "  <clipPath id=\"clip152\">\n",
       "    <rect x=\"186\" y=\"47\" width=\"2167\" height=\"1440\"/>\n",
       "  </clipPath>\n",
       "</defs>\n",
       "<polyline clip-path=\"url(#clip152)\" style=\"stroke:#000000; stroke-linecap:butt; stroke-linejoin:round; stroke-width:2; stroke-opacity:0.1; fill:none\" points=\"\n",
       "  520.103,1486.45 520.103,47.2441 \n",
       "  \"/>\n",
       "<polyline clip-path=\"url(#clip152)\" style=\"stroke:#000000; stroke-linecap:butt; stroke-linejoin:round; stroke-width:2; stroke-opacity:0.1; fill:none\" points=\"\n",
       "  860.745,1486.45 860.745,47.2441 \n",
       "  \"/>\n",
       "<polyline clip-path=\"url(#clip152)\" style=\"stroke:#000000; stroke-linecap:butt; stroke-linejoin:round; stroke-width:2; stroke-opacity:0.1; fill:none\" points=\"\n",
       "  1201.39,1486.45 1201.39,47.2441 \n",
       "  \"/>\n",
       "<polyline clip-path=\"url(#clip152)\" style=\"stroke:#000000; stroke-linecap:butt; stroke-linejoin:round; stroke-width:2; stroke-opacity:0.1; fill:none\" points=\"\n",
       "  1542.03,1486.45 1542.03,47.2441 \n",
       "  \"/>\n",
       "<polyline clip-path=\"url(#clip152)\" style=\"stroke:#000000; stroke-linecap:butt; stroke-linejoin:round; stroke-width:2; stroke-opacity:0.1; fill:none\" points=\"\n",
       "  1882.67,1486.45 1882.67,47.2441 \n",
       "  \"/>\n",
       "<polyline clip-path=\"url(#clip152)\" style=\"stroke:#000000; stroke-linecap:butt; stroke-linejoin:round; stroke-width:2; stroke-opacity:0.1; fill:none\" points=\"\n",
       "  2223.31,1486.45 2223.31,47.2441 \n",
       "  \"/>\n",
       "<polyline clip-path=\"url(#clip150)\" style=\"stroke:#000000; stroke-linecap:butt; stroke-linejoin:round; stroke-width:4; stroke-opacity:1; fill:none\" points=\"\n",
       "  186.274,1486.45 2352.76,1486.45 \n",
       "  \"/>\n",
       "<polyline clip-path=\"url(#clip150)\" style=\"stroke:#000000; stroke-linecap:butt; stroke-linejoin:round; stroke-width:4; stroke-opacity:1; fill:none\" points=\"\n",
       "  520.103,1486.45 520.103,1467.55 \n",
       "  \"/>\n",
       "<polyline clip-path=\"url(#clip150)\" style=\"stroke:#000000; stroke-linecap:butt; stroke-linejoin:round; stroke-width:4; stroke-opacity:1; fill:none\" points=\"\n",
       "  860.745,1486.45 860.745,1467.55 \n",
       "  \"/>\n",
       "<polyline clip-path=\"url(#clip150)\" style=\"stroke:#000000; stroke-linecap:butt; stroke-linejoin:round; stroke-width:4; stroke-opacity:1; fill:none\" points=\"\n",
       "  1201.39,1486.45 1201.39,1467.55 \n",
       "  \"/>\n",
       "<polyline clip-path=\"url(#clip150)\" style=\"stroke:#000000; stroke-linecap:butt; stroke-linejoin:round; stroke-width:4; stroke-opacity:1; fill:none\" points=\"\n",
       "  1542.03,1486.45 1542.03,1467.55 \n",
       "  \"/>\n",
       "<polyline clip-path=\"url(#clip150)\" style=\"stroke:#000000; stroke-linecap:butt; stroke-linejoin:round; stroke-width:4; stroke-opacity:1; fill:none\" points=\"\n",
       "  1882.67,1486.45 1882.67,1467.55 \n",
       "  \"/>\n",
       "<polyline clip-path=\"url(#clip150)\" style=\"stroke:#000000; stroke-linecap:butt; stroke-linejoin:round; stroke-width:4; stroke-opacity:1; fill:none\" points=\"\n",
       "  2223.31,1486.45 2223.31,1467.55 \n",
       "  \"/>\n",
       "<path clip-path=\"url(#clip150)\" d=\"M510.381 1514.29 L528.737 1514.29 L528.737 1518.22 L514.663 1518.22 L514.663 1526.7 Q515.682 1526.35 516.7 1526.19 Q517.719 1526 518.737 1526 Q524.524 1526 527.904 1529.17 Q531.283 1532.34 531.283 1537.76 Q531.283 1543.34 527.811 1546.44 Q524.339 1549.52 518.02 1549.52 Q515.844 1549.52 513.575 1549.15 Q511.33 1548.78 508.922 1548.04 L508.922 1543.34 Q511.006 1544.47 513.228 1545.03 Q515.45 1545.58 517.927 1545.58 Q521.932 1545.58 524.27 1543.48 Q526.608 1541.37 526.608 1537.76 Q526.608 1534.15 524.27 1532.04 Q521.932 1529.94 517.927 1529.94 Q516.052 1529.94 514.177 1530.35 Q512.325 1530.77 510.381 1531.65 L510.381 1514.29 Z\" fill=\"#000000\" fill-rule=\"evenodd\" fill-opacity=\"1\" /><path clip-path=\"url(#clip150)\" d=\"M835.432 1544.91 L843.071 1544.91 L843.071 1518.55 L834.761 1520.21 L834.761 1515.95 L843.025 1514.29 L847.701 1514.29 L847.701 1544.91 L855.34 1544.91 L855.34 1548.85 L835.432 1548.85 L835.432 1544.91 Z\" fill=\"#000000\" fill-rule=\"evenodd\" fill-opacity=\"1\" /><path clip-path=\"url(#clip150)\" d=\"M874.784 1517.37 Q871.173 1517.37 869.344 1520.93 Q867.539 1524.47 867.539 1531.6 Q867.539 1538.71 869.344 1542.27 Q871.173 1545.82 874.784 1545.82 Q878.418 1545.82 880.224 1542.27 Q882.053 1538.71 882.053 1531.6 Q882.053 1524.47 880.224 1520.93 Q878.418 1517.37 874.784 1517.37 M874.784 1513.66 Q880.594 1513.66 883.65 1518.27 Q886.728 1522.85 886.728 1531.6 Q886.728 1540.33 883.65 1544.94 Q880.594 1549.52 874.784 1549.52 Q868.974 1549.52 865.895 1544.94 Q862.84 1540.33 862.84 1531.6 Q862.84 1522.85 865.895 1518.27 Q868.974 1513.66 874.784 1513.66 Z\" fill=\"#000000\" fill-rule=\"evenodd\" fill-opacity=\"1\" /><path clip-path=\"url(#clip150)\" d=\"M1176.57 1544.91 L1184.21 1544.91 L1184.21 1518.55 L1175.9 1520.21 L1175.9 1515.95 L1184.16 1514.29 L1188.84 1514.29 L1188.84 1544.91 L1196.48 1544.91 L1196.48 1548.85 L1176.57 1548.85 L1176.57 1544.91 Z\" fill=\"#000000\" fill-rule=\"evenodd\" fill-opacity=\"1\" /><path clip-path=\"url(#clip150)\" d=\"M1205.97 1514.29 L1224.33 1514.29 L1224.33 1518.22 L1210.25 1518.22 L1210.25 1526.7 Q1211.27 1526.35 1212.29 1526.19 Q1213.31 1526 1214.33 1526 Q1220.11 1526 1223.49 1529.17 Q1226.87 1532.34 1226.87 1537.76 Q1226.87 1543.34 1223.4 1546.44 Q1219.93 1549.52 1213.61 1549.52 Q1211.43 1549.52 1209.16 1549.15 Q1206.92 1548.78 1204.51 1548.04 L1204.51 1543.34 Q1206.59 1544.47 1208.82 1545.03 Q1211.04 1545.58 1213.52 1545.58 Q1217.52 1545.58 1219.86 1543.48 Q1222.2 1541.37 1222.2 1537.76 Q1222.2 1534.15 1219.86 1532.04 Q1217.52 1529.94 1213.52 1529.94 Q1211.64 1529.94 1209.77 1530.35 Q1207.91 1530.77 1205.97 1531.65 L1205.97 1514.29 Z\" fill=\"#000000\" fill-rule=\"evenodd\" fill-opacity=\"1\" /><path clip-path=\"url(#clip150)\" d=\"M1520.8 1544.91 L1537.12 1544.91 L1537.12 1548.85 L1515.18 1548.85 L1515.18 1544.91 Q1517.84 1542.16 1522.42 1537.53 Q1527.03 1532.88 1528.21 1531.53 Q1530.45 1529.01 1531.33 1527.27 Q1532.24 1525.51 1532.24 1523.82 Q1532.24 1521.07 1530.29 1519.33 Q1528.37 1517.6 1525.27 1517.6 Q1523.07 1517.6 1520.62 1518.36 Q1518.19 1519.13 1515.41 1520.68 L1515.41 1515.95 Q1518.23 1514.82 1520.69 1514.24 Q1523.14 1513.66 1525.18 1513.66 Q1530.55 1513.66 1533.74 1516.35 Q1536.94 1519.03 1536.94 1523.52 Q1536.94 1525.65 1536.13 1527.57 Q1535.34 1529.47 1533.23 1532.07 Q1532.65 1532.74 1529.55 1535.95 Q1526.45 1539.15 1520.8 1544.91 Z\" fill=\"#000000\" fill-rule=\"evenodd\" fill-opacity=\"1\" /><path clip-path=\"url(#clip150)\" d=\"M1556.94 1517.37 Q1553.32 1517.37 1551.5 1520.93 Q1549.69 1524.47 1549.69 1531.6 Q1549.69 1538.71 1551.5 1542.27 Q1553.32 1545.82 1556.94 1545.82 Q1560.57 1545.82 1562.38 1542.27 Q1564.2 1538.71 1564.2 1531.6 Q1564.2 1524.47 1562.38 1520.93 Q1560.57 1517.37 1556.94 1517.37 M1556.94 1513.66 Q1562.75 1513.66 1565.8 1518.27 Q1568.88 1522.85 1568.88 1531.6 Q1568.88 1540.33 1565.8 1544.94 Q1562.75 1549.52 1556.94 1549.52 Q1551.13 1549.52 1548.05 1544.94 Q1544.99 1540.33 1544.99 1531.6 Q1544.99 1522.85 1548.05 1518.27 Q1551.13 1513.66 1556.94 1513.66 Z\" fill=\"#000000\" fill-rule=\"evenodd\" fill-opacity=\"1\" /><path clip-path=\"url(#clip150)\" d=\"M1861.94 1544.91 L1878.26 1544.91 L1878.26 1548.85 L1856.32 1548.85 L1856.32 1544.91 Q1858.98 1542.16 1863.56 1537.53 Q1868.17 1532.88 1869.35 1531.53 Q1871.59 1529.01 1872.47 1527.27 Q1873.38 1525.51 1873.38 1523.82 Q1873.38 1521.07 1871.43 1519.33 Q1869.51 1517.6 1866.41 1517.6 Q1864.21 1517.6 1861.76 1518.36 Q1859.33 1519.13 1856.55 1520.68 L1856.55 1515.95 Q1859.37 1514.82 1861.83 1514.24 Q1864.28 1513.66 1866.32 1513.66 Q1871.69 1513.66 1874.88 1516.35 Q1878.08 1519.03 1878.08 1523.52 Q1878.08 1525.65 1877.27 1527.57 Q1876.48 1529.47 1874.37 1532.07 Q1873.79 1532.74 1870.69 1535.95 Q1867.59 1539.15 1861.94 1544.91 Z\" fill=\"#000000\" fill-rule=\"evenodd\" fill-opacity=\"1\" /><path clip-path=\"url(#clip150)\" d=\"M1888.12 1514.29 L1906.48 1514.29 L1906.48 1518.22 L1892.4 1518.22 L1892.4 1526.7 Q1893.42 1526.35 1894.44 1526.19 Q1895.46 1526 1896.48 1526 Q1902.27 1526 1905.64 1529.17 Q1909.02 1532.34 1909.02 1537.76 Q1909.02 1543.34 1905.55 1546.44 Q1902.08 1549.52 1895.76 1549.52 Q1893.58 1549.52 1891.32 1549.15 Q1889.07 1548.78 1886.66 1548.04 L1886.66 1543.34 Q1888.75 1544.47 1890.97 1545.03 Q1893.19 1545.58 1895.67 1545.58 Q1899.67 1545.58 1902.01 1543.48 Q1904.35 1541.37 1904.35 1537.76 Q1904.35 1534.15 1902.01 1532.04 Q1899.67 1529.94 1895.67 1529.94 Q1893.79 1529.94 1891.92 1530.35 Q1890.07 1530.77 1888.12 1531.65 L1888.12 1514.29 Z\" fill=\"#000000\" fill-rule=\"evenodd\" fill-opacity=\"1\" /><path clip-path=\"url(#clip150)\" d=\"M2212.15 1530.21 Q2215.51 1530.93 2217.39 1533.2 Q2219.28 1535.47 2219.28 1538.8 Q2219.28 1543.92 2215.77 1546.72 Q2212.25 1549.52 2205.77 1549.52 Q2203.59 1549.52 2201.28 1549.08 Q2198.98 1548.66 2196.53 1547.81 L2196.53 1543.29 Q2198.47 1544.43 2200.79 1545.01 Q2203.1 1545.58 2205.63 1545.58 Q2210.03 1545.58 2212.32 1543.85 Q2214.63 1542.11 2214.63 1538.8 Q2214.63 1535.75 2212.48 1534.03 Q2210.35 1532.3 2206.53 1532.3 L2202.5 1532.3 L2202.5 1528.45 L2206.71 1528.45 Q2210.16 1528.45 2211.99 1527.09 Q2213.82 1525.7 2213.82 1523.11 Q2213.82 1520.45 2211.92 1519.03 Q2210.05 1517.6 2206.53 1517.6 Q2204.61 1517.6 2202.41 1518.01 Q2200.21 1518.43 2197.57 1519.31 L2197.57 1515.14 Q2200.23 1514.4 2202.55 1514.03 Q2204.89 1513.66 2206.95 1513.66 Q2212.27 1513.66 2215.37 1516.09 Q2218.47 1518.5 2218.47 1522.62 Q2218.47 1525.49 2216.83 1527.48 Q2215.19 1529.45 2212.15 1530.21 Z\" fill=\"#000000\" fill-rule=\"evenodd\" fill-opacity=\"1\" /><path clip-path=\"url(#clip150)\" d=\"M2238.15 1517.37 Q2234.54 1517.37 2232.71 1520.93 Q2230.9 1524.47 2230.9 1531.6 Q2230.9 1538.71 2232.71 1542.27 Q2234.54 1545.82 2238.15 1545.82 Q2241.78 1545.82 2243.59 1542.27 Q2245.42 1538.71 2245.42 1531.6 Q2245.42 1524.47 2243.59 1520.93 Q2241.78 1517.37 2238.15 1517.37 M2238.15 1513.66 Q2243.96 1513.66 2247.02 1518.27 Q2250.09 1522.85 2250.09 1531.6 Q2250.09 1540.33 2247.02 1544.94 Q2243.96 1549.52 2238.15 1549.52 Q2232.34 1549.52 2229.26 1544.94 Q2226.21 1540.33 2226.21 1531.6 Q2226.21 1522.85 2229.26 1518.27 Q2232.34 1513.66 2238.15 1513.66 Z\" fill=\"#000000\" fill-rule=\"evenodd\" fill-opacity=\"1\" /><polyline clip-path=\"url(#clip152)\" style=\"stroke:#000000; stroke-linecap:butt; stroke-linejoin:round; stroke-width:2; stroke-opacity:0.1; fill:none\" points=\"\n",
       "  186.274,1472.44 2352.76,1472.44 \n",
       "  \"/>\n",
       "<polyline clip-path=\"url(#clip152)\" style=\"stroke:#000000; stroke-linecap:butt; stroke-linejoin:round; stroke-width:2; stroke-opacity:0.1; fill:none\" points=\"\n",
       "  186.274,1126.32 2352.76,1126.32 \n",
       "  \"/>\n",
       "<polyline clip-path=\"url(#clip152)\" style=\"stroke:#000000; stroke-linecap:butt; stroke-linejoin:round; stroke-width:2; stroke-opacity:0.1; fill:none\" points=\"\n",
       "  186.274,780.207 2352.76,780.207 \n",
       "  \"/>\n",
       "<polyline clip-path=\"url(#clip152)\" style=\"stroke:#000000; stroke-linecap:butt; stroke-linejoin:round; stroke-width:2; stroke-opacity:0.1; fill:none\" points=\"\n",
       "  186.274,434.092 2352.76,434.092 \n",
       "  \"/>\n",
       "<polyline clip-path=\"url(#clip152)\" style=\"stroke:#000000; stroke-linecap:butt; stroke-linejoin:round; stroke-width:2; stroke-opacity:0.1; fill:none\" points=\"\n",
       "  186.274,87.9763 2352.76,87.9763 \n",
       "  \"/>\n",
       "<polyline clip-path=\"url(#clip150)\" style=\"stroke:#000000; stroke-linecap:butt; stroke-linejoin:round; stroke-width:4; stroke-opacity:1; fill:none\" points=\"\n",
       "  186.274,1486.45 186.274,47.2441 \n",
       "  \"/>\n",
       "<polyline clip-path=\"url(#clip150)\" style=\"stroke:#000000; stroke-linecap:butt; stroke-linejoin:round; stroke-width:4; stroke-opacity:1; fill:none\" points=\"\n",
       "  186.274,1472.44 205.172,1472.44 \n",
       "  \"/>\n",
       "<polyline clip-path=\"url(#clip150)\" style=\"stroke:#000000; stroke-linecap:butt; stroke-linejoin:round; stroke-width:4; stroke-opacity:1; fill:none\" points=\"\n",
       "  186.274,1126.32 205.172,1126.32 \n",
       "  \"/>\n",
       "<polyline clip-path=\"url(#clip150)\" style=\"stroke:#000000; stroke-linecap:butt; stroke-linejoin:round; stroke-width:4; stroke-opacity:1; fill:none\" points=\"\n",
       "  186.274,780.207 205.172,780.207 \n",
       "  \"/>\n",
       "<polyline clip-path=\"url(#clip150)\" style=\"stroke:#000000; stroke-linecap:butt; stroke-linejoin:round; stroke-width:4; stroke-opacity:1; fill:none\" points=\"\n",
       "  186.274,434.092 205.172,434.092 \n",
       "  \"/>\n",
       "<polyline clip-path=\"url(#clip150)\" style=\"stroke:#000000; stroke-linecap:butt; stroke-linejoin:round; stroke-width:4; stroke-opacity:1; fill:none\" points=\"\n",
       "  186.274,87.9763 205.172,87.9763 \n",
       "  \"/>\n",
       "<path clip-path=\"url(#clip150)\" d=\"M62.9365 1458.24 Q59.3254 1458.24 57.4967 1461.8 Q55.6912 1465.34 55.6912 1472.47 Q55.6912 1479.58 57.4967 1483.14 Q59.3254 1486.69 62.9365 1486.69 Q66.5707 1486.69 68.3763 1483.14 Q70.205 1479.58 70.205 1472.47 Q70.205 1465.34 68.3763 1461.8 Q66.5707 1458.24 62.9365 1458.24 M62.9365 1454.53 Q68.7467 1454.53 71.8022 1459.14 Q74.8809 1463.72 74.8809 1472.47 Q74.8809 1481.2 71.8022 1485.81 Q68.7467 1490.39 62.9365 1490.39 Q57.1264 1490.39 54.0477 1485.81 Q50.9921 1481.2 50.9921 1472.47 Q50.9921 1463.72 54.0477 1459.14 Q57.1264 1454.53 62.9365 1454.53 Z\" fill=\"#000000\" fill-rule=\"evenodd\" fill-opacity=\"1\" /><path clip-path=\"url(#clip150)\" d=\"M83.0984 1483.84 L87.9827 1483.84 L87.9827 1489.72 L83.0984 1489.72 L83.0984 1483.84 Z\" fill=\"#000000\" fill-rule=\"evenodd\" fill-opacity=\"1\" /><path clip-path=\"url(#clip150)\" d=\"M108.168 1458.24 Q104.557 1458.24 102.728 1461.8 Q100.922 1465.34 100.922 1472.47 Q100.922 1479.58 102.728 1483.14 Q104.557 1486.69 108.168 1486.69 Q111.802 1486.69 113.608 1483.14 Q115.436 1479.58 115.436 1472.47 Q115.436 1465.34 113.608 1461.8 Q111.802 1458.24 108.168 1458.24 M108.168 1454.53 Q113.978 1454.53 117.033 1459.14 Q120.112 1463.72 120.112 1472.47 Q120.112 1481.2 117.033 1485.81 Q113.978 1490.39 108.168 1490.39 Q102.358 1490.39 99.2789 1485.81 Q96.2234 1481.2 96.2234 1472.47 Q96.2234 1463.72 99.2789 1459.14 Q102.358 1454.53 108.168 1454.53 Z\" fill=\"#000000\" fill-rule=\"evenodd\" fill-opacity=\"1\" /><path clip-path=\"url(#clip150)\" d=\"M138.33 1458.24 Q134.719 1458.24 132.89 1461.8 Q131.084 1465.34 131.084 1472.47 Q131.084 1479.58 132.89 1483.14 Q134.719 1486.69 138.33 1486.69 Q141.964 1486.69 143.769 1483.14 Q145.598 1479.58 145.598 1472.47 Q145.598 1465.34 143.769 1461.8 Q141.964 1458.24 138.33 1458.24 M138.33 1454.53 Q144.14 1454.53 147.195 1459.14 Q150.274 1463.72 150.274 1472.47 Q150.274 1481.2 147.195 1485.81 Q144.14 1490.39 138.33 1490.39 Q132.519 1490.39 129.441 1485.81 Q126.385 1481.2 126.385 1472.47 Q126.385 1463.72 129.441 1459.14 Q132.519 1454.53 138.33 1454.53 Z\" fill=\"#000000\" fill-rule=\"evenodd\" fill-opacity=\"1\" /><path clip-path=\"url(#clip150)\" d=\"M63.9319 1112.12 Q60.3208 1112.12 58.4921 1115.69 Q56.6865 1119.23 56.6865 1126.36 Q56.6865 1133.46 58.4921 1137.03 Q60.3208 1140.57 63.9319 1140.57 Q67.5661 1140.57 69.3717 1137.03 Q71.2004 1133.46 71.2004 1126.36 Q71.2004 1119.23 69.3717 1115.69 Q67.5661 1112.12 63.9319 1112.12 M63.9319 1108.42 Q69.742 1108.42 72.7976 1113.02 Q75.8763 1117.61 75.8763 1126.36 Q75.8763 1135.08 72.7976 1139.69 Q69.742 1144.27 63.9319 1144.27 Q58.1217 1144.27 55.043 1139.69 Q51.9875 1135.08 51.9875 1126.36 Q51.9875 1117.61 55.043 1113.02 Q58.1217 1108.42 63.9319 1108.42 Z\" fill=\"#000000\" fill-rule=\"evenodd\" fill-opacity=\"1\" /><path clip-path=\"url(#clip150)\" d=\"M84.0938 1137.72 L88.978 1137.72 L88.978 1143.6 L84.0938 1143.6 L84.0938 1137.72 Z\" fill=\"#000000\" fill-rule=\"evenodd\" fill-opacity=\"1\" /><path clip-path=\"url(#clip150)\" d=\"M103.191 1139.67 L119.51 1139.67 L119.51 1143.6 L97.566 1143.6 L97.566 1139.67 Q100.228 1136.91 104.811 1132.28 Q109.418 1127.63 110.598 1126.29 Q112.844 1123.76 113.723 1122.03 Q114.626 1120.27 114.626 1118.58 Q114.626 1115.83 112.682 1114.09 Q110.76 1112.35 107.658 1112.35 Q105.459 1112.35 103.006 1113.12 Q100.575 1113.88 97.7974 1115.43 L97.7974 1110.71 Q100.621 1109.58 103.075 1109 Q105.529 1108.42 107.566 1108.42 Q112.936 1108.42 116.131 1111.1 Q119.325 1113.79 119.325 1118.28 Q119.325 1120.41 118.515 1122.33 Q117.728 1124.23 115.621 1126.82 Q115.043 1127.49 111.941 1130.71 Q108.839 1133.9 103.191 1139.67 Z\" fill=\"#000000\" fill-rule=\"evenodd\" fill-opacity=\"1\" /><path clip-path=\"url(#clip150)\" d=\"M129.371 1109.04 L147.728 1109.04 L147.728 1112.98 L133.654 1112.98 L133.654 1121.45 Q134.672 1121.1 135.691 1120.94 Q136.709 1120.76 137.728 1120.76 Q143.515 1120.76 146.894 1123.93 Q150.274 1127.1 150.274 1132.51 Q150.274 1138.09 146.802 1141.2 Q143.33 1144.27 137.01 1144.27 Q134.834 1144.27 132.566 1143.9 Q130.32 1143.53 127.913 1142.79 L127.913 1138.09 Q129.996 1139.23 132.219 1139.78 Q134.441 1140.34 136.918 1140.34 Q140.922 1140.34 143.26 1138.23 Q145.598 1136.13 145.598 1132.51 Q145.598 1128.9 143.26 1126.8 Q140.922 1124.69 136.918 1124.69 Q135.043 1124.69 133.168 1125.11 Q131.316 1125.52 129.371 1126.4 L129.371 1109.04 Z\" fill=\"#000000\" fill-rule=\"evenodd\" fill-opacity=\"1\" /><path clip-path=\"url(#clip150)\" d=\"M62.9365 766.006 Q59.3254 766.006 57.4967 769.571 Q55.6912 773.112 55.6912 780.242 Q55.6912 787.348 57.4967 790.913 Q59.3254 794.455 62.9365 794.455 Q66.5707 794.455 68.3763 790.913 Q70.205 787.348 70.205 780.242 Q70.205 773.112 68.3763 769.571 Q66.5707 766.006 62.9365 766.006 M62.9365 762.302 Q68.7467 762.302 71.8022 766.909 Q74.8809 771.492 74.8809 780.242 Q74.8809 788.969 71.8022 793.575 Q68.7467 798.159 62.9365 798.159 Q57.1264 798.159 54.0477 793.575 Q50.9921 788.969 50.9921 780.242 Q50.9921 771.492 54.0477 766.909 Q57.1264 762.302 62.9365 762.302 Z\" fill=\"#000000\" fill-rule=\"evenodd\" fill-opacity=\"1\" /><path clip-path=\"url(#clip150)\" d=\"M83.0984 791.608 L87.9827 791.608 L87.9827 797.487 L83.0984 797.487 L83.0984 791.608 Z\" fill=\"#000000\" fill-rule=\"evenodd\" fill-opacity=\"1\" /><path clip-path=\"url(#clip150)\" d=\"M98.2141 762.927 L116.57 762.927 L116.57 766.862 L102.496 766.862 L102.496 775.335 Q103.515 774.987 104.534 774.825 Q105.552 774.64 106.571 774.64 Q112.358 774.64 115.737 777.811 Q119.117 780.983 119.117 786.399 Q119.117 791.978 115.645 795.08 Q112.172 798.159 105.853 798.159 Q103.677 798.159 101.409 797.788 Q99.1632 797.418 96.7558 796.677 L96.7558 791.978 Q98.8391 793.112 101.061 793.668 Q103.284 794.223 105.76 794.223 Q109.765 794.223 112.103 792.117 Q114.441 790.01 114.441 786.399 Q114.441 782.788 112.103 780.682 Q109.765 778.575 105.76 778.575 Q103.885 778.575 102.01 778.992 Q100.159 779.409 98.2141 780.288 L98.2141 762.927 Z\" fill=\"#000000\" fill-rule=\"evenodd\" fill-opacity=\"1\" /><path clip-path=\"url(#clip150)\" d=\"M138.33 766.006 Q134.719 766.006 132.89 769.571 Q131.084 773.112 131.084 780.242 Q131.084 787.348 132.89 790.913 Q134.719 794.455 138.33 794.455 Q141.964 794.455 143.769 790.913 Q145.598 787.348 145.598 780.242 Q145.598 773.112 143.769 769.571 Q141.964 766.006 138.33 766.006 M138.33 762.302 Q144.14 762.302 147.195 766.909 Q150.274 771.492 150.274 780.242 Q150.274 788.969 147.195 793.575 Q144.14 798.159 138.33 798.159 Q132.519 798.159 129.441 793.575 Q126.385 788.969 126.385 780.242 Q126.385 771.492 129.441 766.909 Q132.519 762.302 138.33 762.302 Z\" fill=\"#000000\" fill-rule=\"evenodd\" fill-opacity=\"1\" /><path clip-path=\"url(#clip150)\" d=\"M63.9319 419.89 Q60.3208 419.89 58.4921 423.455 Q56.6865 426.997 56.6865 434.126 Q56.6865 441.233 58.4921 444.798 Q60.3208 448.339 63.9319 448.339 Q67.5661 448.339 69.3717 444.798 Q71.2004 441.233 71.2004 434.126 Q71.2004 426.997 69.3717 423.455 Q67.5661 419.89 63.9319 419.89 M63.9319 416.187 Q69.742 416.187 72.7976 420.793 Q75.8763 425.377 75.8763 434.126 Q75.8763 442.853 72.7976 447.46 Q69.742 452.043 63.9319 452.043 Q58.1217 452.043 55.043 447.46 Q51.9875 442.853 51.9875 434.126 Q51.9875 425.377 55.043 420.793 Q58.1217 416.187 63.9319 416.187 Z\" fill=\"#000000\" fill-rule=\"evenodd\" fill-opacity=\"1\" /><path clip-path=\"url(#clip150)\" d=\"M84.0938 445.492 L88.978 445.492 L88.978 451.372 L84.0938 451.372 L84.0938 445.492 Z\" fill=\"#000000\" fill-rule=\"evenodd\" fill-opacity=\"1\" /><path clip-path=\"url(#clip150)\" d=\"M97.9826 416.812 L120.205 416.812 L120.205 418.803 L107.658 451.372 L102.774 451.372 L114.58 420.747 L97.9826 420.747 L97.9826 416.812 Z\" fill=\"#000000\" fill-rule=\"evenodd\" fill-opacity=\"1\" /><path clip-path=\"url(#clip150)\" d=\"M129.371 416.812 L147.728 416.812 L147.728 420.747 L133.654 420.747 L133.654 429.219 Q134.672 428.872 135.691 428.71 Q136.709 428.525 137.728 428.525 Q143.515 428.525 146.894 431.696 Q150.274 434.867 150.274 440.284 Q150.274 445.863 146.802 448.964 Q143.33 452.043 137.01 452.043 Q134.834 452.043 132.566 451.673 Q130.32 451.302 127.913 450.562 L127.913 445.863 Q129.996 446.997 132.219 447.552 Q134.441 448.108 136.918 448.108 Q140.922 448.108 143.26 446.001 Q145.598 443.895 145.598 440.284 Q145.598 436.673 143.26 434.566 Q140.922 432.46 136.918 432.46 Q135.043 432.46 133.168 432.876 Q131.316 433.293 129.371 434.173 L129.371 416.812 Z\" fill=\"#000000\" fill-rule=\"evenodd\" fill-opacity=\"1\" /><path clip-path=\"url(#clip150)\" d=\"M53.7467 101.321 L61.3856 101.321 L61.3856 74.9555 L53.0754 76.6222 L53.0754 72.3629 L61.3393 70.6963 L66.0152 70.6963 L66.0152 101.321 L73.654 101.321 L73.654 105.256 L53.7467 105.256 L53.7467 101.321 Z\" fill=\"#000000\" fill-rule=\"evenodd\" fill-opacity=\"1\" /><path clip-path=\"url(#clip150)\" d=\"M83.0984 99.3767 L87.9827 99.3767 L87.9827 105.256 L83.0984 105.256 L83.0984 99.3767 Z\" fill=\"#000000\" fill-rule=\"evenodd\" fill-opacity=\"1\" /><path clip-path=\"url(#clip150)\" d=\"M108.168 73.775 Q104.557 73.775 102.728 77.3398 Q100.922 80.8814 100.922 88.011 Q100.922 95.1174 102.728 98.6822 Q104.557 102.224 108.168 102.224 Q111.802 102.224 113.608 98.6822 Q115.436 95.1174 115.436 88.011 Q115.436 80.8814 113.608 77.3398 Q111.802 73.775 108.168 73.775 M108.168 70.0713 Q113.978 70.0713 117.033 74.6777 Q120.112 79.261 120.112 88.011 Q120.112 96.7378 117.033 101.344 Q113.978 105.928 108.168 105.928 Q102.358 105.928 99.2789 101.344 Q96.2234 96.7378 96.2234 88.011 Q96.2234 79.261 99.2789 74.6777 Q102.358 70.0713 108.168 70.0713 Z\" fill=\"#000000\" fill-rule=\"evenodd\" fill-opacity=\"1\" /><path clip-path=\"url(#clip150)\" d=\"M138.33 73.775 Q134.719 73.775 132.89 77.3398 Q131.084 80.8814 131.084 88.011 Q131.084 95.1174 132.89 98.6822 Q134.719 102.224 138.33 102.224 Q141.964 102.224 143.769 98.6822 Q145.598 95.1174 145.598 88.011 Q145.598 80.8814 143.769 77.3398 Q141.964 73.775 138.33 73.775 M138.33 70.0713 Q144.14 70.0713 147.195 74.6777 Q150.274 79.261 150.274 88.011 Q150.274 96.7378 147.195 101.344 Q144.14 105.928 138.33 105.928 Q132.519 105.928 129.441 101.344 Q126.385 96.7378 126.385 88.011 Q126.385 79.261 129.441 74.6777 Q132.519 70.0713 138.33 70.0713 Z\" fill=\"#000000\" fill-rule=\"evenodd\" fill-opacity=\"1\" /><polyline clip-path=\"url(#clip152)\" style=\"stroke:#009af9; stroke-linecap:butt; stroke-linejoin:round; stroke-width:4; stroke-opacity:1; fill:none\" points=\"\n",
       "  247.59,87.9763 315.718,99.9002 383.846,740.947 451.975,1186.4 520.103,1350.51 588.231,1365.4 656.36,1247.35 724.488,955.258 792.616,976.232 860.745,1241.89 \n",
       "  928.873,1383.35 997.002,1413.6 1065.13,1374.96 1133.26,1220.91 1201.39,1108.58 1269.51,1258.29 1337.64,1390.5 1405.77,1429.51 1473.9,1417.84 1542.03,1336.11 \n",
       "  1610.16,1207.97 1678.29,1266.37 1746.41,1388.09 1814.54,1435.3 1882.67,1436.62 1950.8,1393.37 2018.93,1286.93 2087.06,1277.08 2155.18,1380.71 2223.31,1436.16 \n",
       "  2291.44,1445.72 \n",
       "  \"/>\n",
       "<path clip-path=\"url(#clip150)\" d=\"\n",
       "M1987.39 198.898 L2280.54 198.898 L2280.54 95.2176 L1987.39 95.2176  Z\n",
       "  \" fill=\"#ffffff\" fill-rule=\"evenodd\" fill-opacity=\"1\"/>\n",
       "<polyline clip-path=\"url(#clip150)\" style=\"stroke:#000000; stroke-linecap:butt; stroke-linejoin:round; stroke-width:4; stroke-opacity:1; fill:none\" points=\"\n",
       "  1987.39,198.898 2280.54,198.898 2280.54,95.2176 1987.39,95.2176 1987.39,198.898 \n",
       "  \"/>\n",
       "<polyline clip-path=\"url(#clip150)\" style=\"stroke:#009af9; stroke-linecap:butt; stroke-linejoin:round; stroke-width:4; stroke-opacity:1; fill:none\" points=\"\n",
       "  2011.46,147.058 2155.89,147.058 \n",
       "  \"/>\n",
       "<path clip-path=\"url(#clip150)\" d=\"M2193.81 166.745 Q2192 171.375 2190.29 172.787 Q2188.58 174.199 2185.71 174.199 L2182.3 174.199 L2182.3 170.634 L2184.8 170.634 Q2186.56 170.634 2187.53 169.8 Q2188.51 168.967 2189.69 165.865 L2190.45 163.921 L2179.97 138.412 L2184.48 138.412 L2192.58 158.689 L2200.68 138.412 L2205.2 138.412 L2193.81 166.745 Z\" fill=\"#000000\" fill-rule=\"evenodd\" fill-opacity=\"1\" /><path clip-path=\"url(#clip150)\" d=\"M2212.49 160.402 L2220.13 160.402 L2220.13 134.037 L2211.82 135.703 L2211.82 131.444 L2220.08 129.778 L2224.76 129.778 L2224.76 160.402 L2232.4 160.402 L2232.4 164.338 L2212.49 164.338 L2212.49 160.402 Z\" fill=\"#000000\" fill-rule=\"evenodd\" fill-opacity=\"1\" /></svg>\n"
      ]
     },
     "execution_count": 7,
     "metadata": {},
     "output_type": "execute_result"
    }
   ],
   "source": [
    "using Plots\n",
    "x = 1:31; y = rand(10); # These are the plotting data\n",
    "plot(x, t')"
   ]
  },
  {
   "cell_type": "code",
   "execution_count": null,
   "metadata": {},
   "outputs": [],
   "source": []
  }
 ],
 "metadata": {
  "kernel_info": {
   "name": "python3"
  },
  "kernelspec": {
   "display_name": "Julia 1.7.0",
   "language": "julia",
   "name": "julia-1.7"
  },
  "language_info": {
   "file_extension": ".jl",
   "mimetype": "application/julia",
   "name": "julia",
   "version": "1.7.0"
  },
  "nteract": {
   "version": "0.28.0"
  }
 },
 "nbformat": 4,
 "nbformat_minor": 1
}
