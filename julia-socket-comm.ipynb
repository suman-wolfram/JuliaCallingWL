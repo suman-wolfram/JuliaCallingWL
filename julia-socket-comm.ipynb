{
 "cells": [
  {
   "cell_type": "code",
   "execution_count": 1,
   "id": "88d4eae9",
   "metadata": {},
   "outputs": [],
   "source": [
    "using ZMQ\n",
    "ctx = Context(1)\n",
    "s = Socket(ctx, PAIR)\n",
    "ZMQ.connect(s, \"tcp://127.0.0.1:5550\")"
   ]
  },
  {
   "cell_type": "code",
   "execution_count": 19,
   "id": "95ff5c68",
   "metadata": {},
   "outputs": [
    {
     "name": "stdout",
     "output_type": "stream",
     "text": [
      "72\n",
      "Message\n"
     ]
    },
    {
     "data": {
      "text/plain": [
       "127-element Message:\n",
       " 0x38\n",
       " 0x3a\n",
       " 0xc1\n",
       " 0x23\n",
       " 0x02\n",
       " 0x05\n",
       " 0x03\n",
       " 0xbc\n",
       " 0xbb\n",
       " 0xbb\n",
       " 0xbb\n",
       " 0xbb\n",
       " 0xbb\n",
       "    ⋮\n",
       " 0x51\n",
       " 0x51\n",
       " 0xe1\n",
       " 0x3f\n",
       " 0xd1\n",
       " 0xd0\n",
       " 0xd0\n",
       " 0xd0\n",
       " 0xd0\n",
       " 0xd0\n",
       " 0xd0\n",
       " 0x3f"
      ]
     },
     "execution_count": 19,
     "metadata": {},
     "output_type": "execute_result"
    }
   ],
   "source": [
    "msg = ZMQ.recv(s)\n",
    "println(sizeof(msg))\n",
    "println(typeof(msg))\n",
    "res =  String(UInt8.(msg))\n",
    "msg"
   ]
  },
  {
   "cell_type": "code",
   "execution_count": 16,
   "id": "1669eae7",
   "metadata": {},
   "outputs": [
    {
     "data": {
      "text/plain": [
       "\"\\x01\\x02\\x03\\x04\\x05\\x06\\x05\\x04\\x03\\x02\\x01\""
      ]
     },
     "execution_count": 16,
     "metadata": {},
     "output_type": "execute_result"
    }
   ],
   "source": [
    "res =  String(UInt8.(msg))"
   ]
  },
  {
   "cell_type": "code",
   "execution_count": 22,
   "id": "0aacc15f",
   "metadata": {},
   "outputs": [
    {
     "ename": "LoadError",
     "evalue": "ArgumentError: `reinterpret(reshape, RGB{Float64}, a)` where `eltype(a)` is Float64 requires that `axes(a, 1)` (got Base.OneTo(1024)) be equal to 1:3 (from the ratio of element sizes)",
     "output_type": "error",
     "traceback": [
      "ArgumentError: `reinterpret(reshape, RGB{Float64}, a)` where `eltype(a)` is Float64 requires that `axes(a, 1)` (got Base.OneTo(1024)) be equal to 1:3 (from the ratio of element sizes)",
      "",
      "Stacktrace:",
      " [1] (::Base.var\"#throwsize1#282\")(a::Vector{Float64}, T::Type)",
      "   @ Base .\\reinterpretarray.jl:59",
      " [2] reinterpret",
      "   @ .\\reinterpretarray.jl:72 [inlined]",
      " [3] reinterpretc",
      "   @ C:\\Users\\suman\\.julia\\packages\\ImageCore\\QrUUb\\src\\convert_reinterpret.jl:6 [inlined]",
      " [4] __ccolorview",
      "   @ C:\\Users\\suman\\.julia\\packages\\ImageCore\\QrUUb\\src\\colorchannels.jl:141 [inlined]",
      " [5] _ccolorview",
      "   @ C:\\Users\\suman\\.julia\\packages\\ImageCore\\QrUUb\\src\\colorchannels.jl:139 [inlined]",
      " [6] colorview(#unused#::Type{RGB}, A::Vector{Float64})",
      "   @ ImageCore C:\\Users\\suman\\.julia\\packages\\ImageCore\\QrUUb\\src\\colorchannels.jl:114",
      " [7] top-level scope",
      "   @ In[22]:2",
      " [8] eval",
      "   @ .\\boot.jl:373 [inlined]",
      " [9] include_string(mapexpr::typeof(REPL.softscope), mod::Module, code::String, filename::String)",
      "   @ Base .\\loading.jl:1196"
     ]
    }
   ],
   "source": [
    "using Images\n",
    "colorview(RGB, msg / 255)"
   ]
  },
  {
   "cell_type": "code",
   "execution_count": 24,
   "id": "ce3fa3f3",
   "metadata": {},
   "outputs": [
    {
     "data": {
      "image/png": "[encoded data removed]",
      "text/plain": [
       "50×50 reinterpret(reshape, RGB{Float64}, ::Array{Float64, 3}) with eltype RGB{Float64}:\n",
       " RGB{Float64}(0.364706,0.701961,0.568627)    …  RGB{Float64}(0.72549,0.0,0.592157)\n",
       " RGB{Float64}(0.403922,0.0392157,0.94902)       RGB{Float64}(0.564706,0.0784314,0.913725)\n",
       " RGB{Float64}(0.898039,0.960784,0.478431)       RGB{Float64}(0.321569,0.176471,0.756863)\n",
       " RGB{Float64}(0.227451,0.490196,0.541176)       RGB{Float64}(0.886275,0.121569,0.294118)\n",
       " RGB{Float64}(0.752941,0.298039,0.862745)       RGB{Float64}(0.662745,0.207843,0.501961)\n",
       " RGB{Float64}(0.282353,0.513725,0.141176)    …  RGB{Float64}(0.0117647,0.631373,0.478431)\n",
       " RGB{Float64}(0.803922,0.211765,0.960784)       RGB{Float64}(0.933333,0.792157,0.462745)\n",
       " RGB{Float64}(0.921569,0.368627,0.929412)       RGB{Float64}(0.431373,0.858824,0.619608)\n",
       " RGB{Float64}(1.0,0.454902,0.0431373)           RGB{Float64}(0.333333,0.313725,0.235294)\n",
       " RGB{Float64}(0.631373,0.843137,0.00392157)     RGB{Float64}(0.196078,0.270588,0.784314)\n",
       " RGB{Float64}(0.72549,0.286275,0.737255)     …  RGB{Float64}(0.352941,0.717647,0.443137)\n",
       " RGB{Float64}(0.764706,0.0392157,0.815686)      RGB{Float64}(0.964706,0.337255,0.682353)\n",
       " RGB{Float64}(0.611765,0.376471,0.309804)       RGB{Float64}(0.980392,0.913725,0.160784)\n",
       " ⋮                                           ⋱  \n",
       " RGB{Float64}(0.87451,0.203922,0.0784314)       RGB{Float64}(0.713725,0.796078,0.203922)\n",
       " RGB{Float64}(0.396078,0.313725,0.435294)       RGB{Float64}(0.654902,0.00392157,0.796078)\n",
       " RGB{Float64}(0.74902,0.815686,0.690196)     …  RGB{Float64}(0.541176,0.152941,0.00392157)\n",
       " RGB{Float64}(0.345098,0.345098,0.682353)       RGB{Float64}(0.760784,0.333333,0.545098)\n",
       " RGB{Float64}(0.0588235,0.611765,0.0862745)     RGB{Float64}(0.0431373,0.0862745,0.0470588)\n",
       " RGB{Float64}(0.54902,0.639216,0.0980392)       RGB{Float64}(0.858824,0.784314,0.254902)\n",
       " RGB{Float64}(0.603922,0.0392157,0.831373)      RGB{Float64}(0.0235294,0.164706,0.827451)\n",
       " RGB{Float64}(0.929412,0.592157,0.909804)    …  RGB{Float64}(0.509804,0.470588,0.0705882)\n",
       " RGB{Float64}(0.87451,0.505882,0.592157)        RGB{Float64}(0.494118,0.282353,0.729412)\n",
       " RGB{Float64}(0.996078,0.447059,0.282353)       RGB{Float64}(0.898039,0.333333,0.85098)\n",
       " RGB{Float64}(0.247059,0.792157,0.803922)       RGB{Float64}(0.337255,0.964706,0.470588)\n",
       " RGB{Float64}(0.505882,0.658824,0.498039)       RGB{Float64}(0.647059,0.768627,0.0431373)"
      ]
     },
     "execution_count": 24,
     "metadata": {},
     "output_type": "execute_result"
    }
   ],
   "source": [
    "arr = rand(UInt8, 3, 50, 50)\n",
    "img = colorview(RGB, arr / 255)\n",
    "channelview(img)"
   ]
  },
  {
   "cell_type": "code",
   "execution_count": 96,
   "id": "161c4597",
   "metadata": {},
   "outputs": [
    {
     "data": {
      "text/plain": [
       "72"
      ]
     },
     "execution_count": 96,
     "metadata": {},
     "output_type": "execute_result"
    }
   ],
   "source": [
    "sizeof(msg)"
   ]
  },
  {
   "cell_type": "code",
   "execution_count": null,
   "id": "39d09acd",
   "metadata": {},
   "outputs": [],
   "source": []
  }
 ],
 "metadata": {
  "kernelspec": {
   "display_name": "Julia 1.7.0",
   "language": "julia",
   "name": "julia-1.7"
  },
  "language_info": {
   "file_extension": ".jl",
   "mimetype": "application/julia",
   "name": "julia",
   "version": "1.7.0"
  }
 },
 "nbformat": 4,
 "nbformat_minor": 5
}
